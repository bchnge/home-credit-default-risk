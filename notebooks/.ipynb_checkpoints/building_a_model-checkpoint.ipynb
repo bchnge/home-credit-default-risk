{
 "cells": [
  {
   "cell_type": "code",
   "execution_count": 7,
   "metadata": {},
   "outputs": [
    {
     "name": "stdout",
     "output_type": "stream",
     "text": [
      "/Users/bchnge/Documents/GitHub/home-credit-default-risk\n"
     ]
    }
   ],
   "source": [
    "cd '/Users/bchnge/Documents/GitHub/home-credit-default-risk/'"
   ]
  },
  {
   "cell_type": "code",
   "execution_count": 13,
   "metadata": {},
   "outputs": [],
   "source": [
    "from src import proj_utils, utils, classes"
   ]
  },
  {
   "cell_type": "code",
   "execution_count": 14,
   "metadata": {},
   "outputs": [],
   "source": [
    "from importlib import reload"
   ]
  },
  {
   "cell_type": "code",
   "execution_count": 10,
   "metadata": {},
   "outputs": [],
   "source": [
    "from pprint import pprint"
   ]
  },
  {
   "cell_type": "code",
   "execution_count": 11,
   "metadata": {},
   "outputs": [],
   "source": [
    "from lightgbm.sklearn import LGBMClassifier"
   ]
  },
  {
   "cell_type": "code",
   "execution_count": 16,
   "metadata": {
    "scrolled": true
   },
   "outputs": [
    {
     "name": "stdout",
     "output_type": "stream",
     "text": [
      "Loading training applications\n",
      "Loading previous_application.csv.zip\n",
      "Loading credit_card_balance.csv.zip\n",
      "Loading installments_payments.csv.zip\n",
      "Loading POS_CASH_balance.csv.zip\n",
      "Loading bureau.csv.zip\n",
      "Loading test applications\n",
      "Loading previous_application.csv.zip\n",
      "Loading credit_card_balance.csv.zip\n",
      "Loading installments_payments.csv.zip\n",
      "Loading POS_CASH_balance.csv.zip\n",
      "Loading bureau.csv.zip\n"
     ]
    }
   ],
   "source": [
    "# Load data\n",
    "df_train = proj_utils.load_data(data_path= '/Users/bchnge/data/home-credit-default-risk/',\n",
    "                                train = True,\n",
    "                                supp_dict = {'previous_application.csv.zip' : 'max',\n",
    "                                             'credit_card_balance.csv.zip' : 'mean',\n",
    "                                             'installments_payments.csv.zip' : 'min',\n",
    "                                             'POS_CASH_balance.csv.zip' : 'mean',\n",
    "                                             'bureau.csv.zip' : 'max'\n",
    "                                            })\n",
    "\n",
    "df_test = proj_utils.load_data(data_path = '/Users/bchnge/data/home-credit-default-risk/',\n",
    "                               train = False,\n",
    "                               supp_dict = {'previous_application.csv.zip' : 'max',\n",
    "                                            'credit_card_balance.csv.zip' : 'mean',\n",
    "                                            'installments_payments.csv.zip' : 'min',\n",
    "                                            'POS_CASH_balance.csv.zip' : 'mean',\n",
    "                                            'bureau.csv.zip' : 'max'\n",
    "                                           })"
   ]
  },
  {
   "cell_type": "code",
   "execution_count": 39,
   "metadata": {},
   "outputs": [
    {
     "data": {
      "text/plain": [
       "<module 'src.classes' from '/Users/bchnge/Documents/GitHub/home-credit-default-risk/src/classes.py'>"
      ]
     },
     "execution_count": 39,
     "metadata": {},
     "output_type": "execute_result"
    }
   ],
   "source": [
    "reload(utils)\n",
    "reload(classes)"
   ]
  },
  {
   "cell_type": "code",
   "execution_count": 40,
   "metadata": {
    "scrolled": true
   },
   "outputs": [
    {
     "name": "stdout",
     "output_type": "stream",
     "text": [
      "...creating training matrix\n",
      "...creating test matrix\n"
     ]
    }
   ],
   "source": [
    "data = classes.Dataset(df_train, df_test, 'TARGET')"
   ]
  },
  {
   "cell_type": "code",
   "execution_count": 52,
   "metadata": {},
   "outputs": [
    {
     "data": {
      "text/plain": [
       "Index(['NAME_PRODUCT_TYPE_x-sell_max', 'LIVINGAPARTMENTS_MEDI',\n",
       "       'NAME_CASH_LOAN_PURPOSE_Education_mean',\n",
       "       'NAME_CONTRACT_STATUS_Signed_4', 'NAME_CLIENT_TYPE_Repeater',\n",
       "       'AMT_RECEIVABLE_PRINCIPAL_max', 'NAME_GOODS_CATEGORY_Tourism_mean',\n",
       "       'NAME_CASH_LOAN_PURPOSE_Furniture_max',\n",
       "       'NAME_CONTRACT_STATUS_Refused_max', 'DAYS_LAST_DUE_1ST_VERSION',\n",
       "       ...\n",
       "       'NAME_GOODS_CATEGORY_Medicine',\n",
       "       'PRODUCT_COMBINATION_POS mobile with interest',\n",
       "       'CODE_REJECT_REASON_SYSTEM_mean', 'AMT_BALANCE_mean',\n",
       "       'CODE_REJECT_REASON_SYSTEM_max', 'NAME_CONTRACT_STATUS_Active',\n",
       "       'CNT_DRAWINGS_ATM_CURRENT_max', 'AMT_PAYMENT_max', 'LANDAREA_MEDI',\n",
       "       'NAME_TYPE_SUITE_Group of people_mean'],\n",
       "      dtype='object', length=837)"
      ]
     },
     "execution_count": 52,
     "metadata": {},
     "output_type": "execute_result"
    }
   ],
   "source": [
    "data.X_train.columnsumns"
   ]
  },
  {
   "cell_type": "code",
   "execution_count": 46,
   "metadata": {},
   "outputs": [],
   "source": [
    "\n",
    "# Clean and transform data\n",
    "\n",
    "# Determine initial feature importances\n",
    "data.ae_train_model(model = LGBMClassifier(n_estimators= 100, n_jobs=4))"
   ]
  },
  {
   "cell_type": "code",
   "execution_count": 48,
   "metadata": {},
   "outputs": [],
   "source": [
    "# Auto-discover ratios weighted by feature importance\n",
    "data.autoengineer_ratios(ae_params={'boosting_type': 'gbdt',\n",
    "                                    'max_depth': -1,\n",
    "                                    'objective': 'binary',\n",
    "                                    'learning_rate': 0.0212,\n",
    "                                    'reg_alpha': 0.8,\n",
    "                                    'reg_lambda': 0.4,\n",
    "                                    'subsample': 1,\n",
    "                                    'feature_fraction': 0.3,\n",
    "                                    'metric': 'auc',\n",
    "                                    'random_state': 123,\n",
    "                                    'n_estimators': 300, \n",
    "                                    'num_leaves': 40,\n",
    "                                    'max_bin': 255,\n",
    "                                    'min_data_in_leaf': 2400,\n",
    "                                    'min_data_in_bin': 5},\n",
    "                         n_iter = 10)"
   ]
  },
  {
   "cell_type": "code",
   "execution_count": 53,
   "metadata": {},
   "outputs": [
    {
     "data": {
      "text/plain": [
       "[('DAYS_REGISTRATION', 'DAYS_LAST_DUE_1ST_VERSION_max', 1.0004759447305511),\n",
       " ('DAYS_INSTALMENT_mean', 'AMT_CREDIT_LIMIT_ACTUAL_mean', 1.0019457740250499)]"
      ]
     },
     "execution_count": 53,
     "metadata": {},
     "output_type": "execute_result"
    }
   ],
   "source": [
    "data.ae_discovery_ratios"
   ]
  },
  {
   "cell_type": "code",
   "execution_count": 54,
   "metadata": {},
   "outputs": [],
   "source": [
    "from sklearn.linear_model import LogisticRegression\n",
    "from sklearn.naive_bayes import GaussianNB\n",
    "from sklearn.pipeline import Pipeline"
   ]
  },
  {
   "cell_type": "code",
   "execution_count": 58,
   "metadata": {},
   "outputs": [],
   "source": [
    "from sklearn.preprocessing import FunctionTransformer"
   ]
  },
  {
   "cell_type": "code",
   "execution_count": 60,
   "metadata": {},
   "outputs": [],
   "source": [
    "x = data.X_train.values"
   ]
  },
  {
   "cell_type": "code",
   "execution_count": 61,
   "metadata": {},
   "outputs": [],
   "source": [
    "import numpy as np"
   ]
  },
  {
   "cell_type": "code",
   "execution_count": 63,
   "metadata": {},
   "outputs": [],
   "source": []
  },
  {
   "cell_type": "code",
   "execution_count": 65,
   "metadata": {},
   "outputs": [
    {
     "data": {
      "text/plain": [
       "array([  5.35070290e-02,   6.83549532e-01,   5.35070290e-02,\n",
       "         5.87523698e-02,   5.35070290e-02,   7.17392223e-01,\n",
       "         5.35070290e-02,   5.35070290e-02,   5.35070290e-02,\n",
       "         5.77247643e-02,   5.35070290e-02,   5.35070290e-02,\n",
       "         0.00000000e+00,   1.43149351e-01,   2.11598935e-01,\n",
       "         1.43149351e-01,   5.51791643e-01,   6.64977838e-01,\n",
       "         5.35070290e-02,   5.35070290e-02,   5.87523698e-02,\n",
       "         7.17392223e-01,   5.48565742e-02,   5.87523698e-02,\n",
       "         5.35070290e-02,   5.35070290e-02,   5.35070290e-02,\n",
       "         5.87523698e-02,   5.35070290e-02,   2.14626469e-03,\n",
       "         7.17392223e-01,   8.01177844e-01,   1.43149351e-01,\n",
       "         5.35070290e-02,   8.01177844e-01,   5.35070290e-02,\n",
       "         5.35070290e-02,   1.43149351e-01,   5.48565742e-02,\n",
       "         5.35070290e-02,   1.43149351e-01,   5.87523698e-02,\n",
       "         1.98253071e-01,   5.35070290e-02,   7.17392223e-01,\n",
       "         5.87523698e-02,   1.43149351e-01,   5.35070290e-02,\n",
       "         5.35070290e-02,   9.85011918e-01,   5.35070290e-02,\n",
       "         5.35070290e-02,   5.01933264e-01,   5.35070290e-02,\n",
       "         7.17392223e-01,   1.43149351e-01,   0.00000000e+00,\n",
       "         5.35070290e-02,   5.16014061e-02,   1.43149351e-01,\n",
       "         1.43149351e-01,   5.35070290e-02,   5.35070290e-02,\n",
       "         5.35070290e-02,   5.35070290e-02,   5.35070290e-02,\n",
       "         5.35070290e-02,   7.17392223e-01,   5.35070290e-02,\n",
       "         1.43149351e-01,   5.35070290e-02,   5.35070290e-02,\n",
       "         5.35070290e-02,   5.35070290e-02,   5.35070290e-02,\n",
       "         5.35070290e-02,   5.35070290e-02,   5.77247643e-02,\n",
       "         5.35070290e-02,   5.35070290e-02,   5.35070290e-02,\n",
       "         5.77247643e-02,   5.35070290e-02,   5.35070290e-02,\n",
       "         0.00000000e+00,   5.35070290e-02,   1.43149351e-01,\n",
       "         5.35070290e-02,   5.35070290e-02,   5.35070290e-02,\n",
       "         5.35070290e-02,   5.35070290e-02,   5.35070290e-02,\n",
       "         5.35070290e-02,   5.35070290e-02,   5.35070290e-02,\n",
       "         5.35070290e-02,   7.17392223e-01,   5.35070290e-02,\n",
       "         0.00000000e+00,   3.32020643e-03,   5.35070290e-02,\n",
       "         5.35070290e-02,   6.78486298e-01,   1.43149351e-01,\n",
       "         1.43149351e-01,   1.43149351e-01,   5.35070290e-02,\n",
       "         3.90229943e-05,   8.01437997e-01,   7.17392223e-01,\n",
       "         5.77247643e-02,   5.35070290e-02,   4.87810192e-01,\n",
       "         5.87523698e-02,   4.02018139e-01,   1.43149351e-01,\n",
       "         1.10259470e-01,   5.35070290e-02,   5.35070290e-02,\n",
       "         0.00000000e+00,   5.35070290e-02,   5.77247643e-02,\n",
       "         7.17392223e-01,   1.43149351e-01,   5.35070290e-02,\n",
       "         5.35070290e-02,   5.35070290e-02,   4.87810192e-01,\n",
       "         5.35070290e-02,   5.35070290e-02,   1.43149351e-01,\n",
       "         5.35070290e-02,   5.35070290e-02,   5.35070290e-02,\n",
       "         5.87523698e-02,   0.00000000e+00,   5.35070290e-02,\n",
       "         5.77247643e-02,   5.35070290e-02,   5.35070290e-02,\n",
       "         1.43149351e-01,   1.43149351e-01,   5.35070290e-02,\n",
       "         7.17392223e-01,   1.43149351e-01,   5.35070290e-02,\n",
       "         5.87523698e-02,   5.88304158e-02,   5.35070290e-02,\n",
       "         6.59908101e-01,   0.00000000e+00,   6.94329634e-01,\n",
       "         7.17392223e-01,   5.35070290e-02,   8.01177844e-01,\n",
       "         0.00000000e+00,   5.35070290e-02,   5.35070290e-02,\n",
       "         5.35070290e-02,   5.35070290e-02,   5.35070290e-02,\n",
       "         5.35070290e-02,   0.00000000e+00,   0.00000000e+00,\n",
       "         5.35070290e-02,   5.35070290e-02,   5.35070290e-02,\n",
       "         5.35070290e-02,   5.35070290e-02,   5.87523698e-02,\n",
       "         5.77247643e-02,   5.35070290e-02,   5.35070290e-02,\n",
       "         8.01437997e-01,   5.35070290e-02,   5.35070290e-02,\n",
       "         1.50462910e-01,   5.35070290e-02,   1.43149351e-01,\n",
       "         5.35070290e-02,   5.35070290e-02,   5.35070290e-02,\n",
       "         5.35070290e-02,   5.16014061e-02,   5.35070290e-02,\n",
       "         5.35070290e-02,   5.16274215e-02,   1.43149351e-01,\n",
       "         0.00000000e+00,   5.35070290e-02,   5.35070290e-02,\n",
       "         5.35070290e-02,   6.50383238e-06,   5.35070290e-02,\n",
       "         5.32959797e-01,   5.35070290e-02,   5.35070290e-02,\n",
       "         5.35070290e-02,   5.35070290e-02,   5.35070290e-02,\n",
       "         1.43149351e-01,   0.00000000e+00,   6.64977838e-01,\n",
       "         5.16014061e-02,   5.35070290e-02,   5.35070290e-02,\n",
       "         1.43152603e-01,   8.01177844e-01,   5.35070290e-02,\n",
       "         5.35070290e-02,   7.17392223e-01,   4.02018139e-01,\n",
       "         1.10259470e-01,   5.35070290e-02,   5.35070290e-02,\n",
       "         5.35070290e-02,   5.35070290e-02,   7.17392223e-01,\n",
       "         5.35070290e-02,   5.51791643e-01,   5.35070290e-02,\n",
       "         5.35070290e-02,   5.77247643e-02,   5.35070290e-02,\n",
       "         5.35070290e-02,   5.35070290e-02,   7.17392223e-01,\n",
       "         5.35070290e-02,   5.35070290e-02,   0.00000000e+00,\n",
       "         5.35070290e-02,   5.35070290e-02,   5.35070290e-02,\n",
       "         5.35070290e-02,   5.35070290e-02,   5.35070290e-02,\n",
       "         5.35070290e-02,   3.32020643e-03,   5.35070290e-02,\n",
       "         5.35070290e-02,   5.35070290e-02,   5.35070290e-02,\n",
       "         5.35070290e-02,   0.00000000e+00,   5.35070290e-02,\n",
       "         1.43149351e-01,   7.17392223e-01,   5.35070290e-02,\n",
       "         5.35070290e-02,   1.43149351e-01,   5.35070290e-02,\n",
       "         5.35070290e-02,   5.35070290e-02,   1.43149351e-01,\n",
       "         0.00000000e+00,   5.35070290e-02,   5.35070290e-02,\n",
       "         5.35070290e-02,   8.01177844e-01,   7.17392223e-01,\n",
       "         5.35070290e-02,   5.35070290e-02,   1.43149351e-01,\n",
       "         5.35070290e-02,   5.35070290e-02,   4.82685172e-01,\n",
       "         5.35070290e-02,   5.35070290e-02,   1.35016308e-01,\n",
       "         7.17392223e-01,   5.35070290e-02,   5.35070290e-02,\n",
       "         5.35070290e-02,   5.35070290e-02,   5.35070290e-02,\n",
       "         1.43149351e-01,   5.35070290e-02,   5.35070290e-02,\n",
       "         5.35070290e-02,   5.35070290e-02,   0.00000000e+00,\n",
       "         5.35070290e-02,   5.35070290e-02,   5.16014061e-02,\n",
       "         8.01177844e-01,   5.85159555e-01,   5.85159555e-01,\n",
       "         0.00000000e+00,   5.35070290e-02,   5.35070290e-02,\n",
       "         5.35070290e-02,   5.01933264e-01,   1.43149351e-01,\n",
       "         5.35070290e-02,   5.88304158e-02,   5.35070290e-02,\n",
       "         5.35070290e-02,   5.07497293e-01,   7.17392223e-01,\n",
       "         5.35070290e-02,   8.01177844e-01,   5.35070290e-02,\n",
       "         1.35016308e-01,   5.32959797e-01,   5.35070290e-02,\n",
       "         5.35070290e-02,   5.16014061e-02,   0.00000000e+00,\n",
       "         5.35070290e-02,   5.35070290e-02,   5.35070290e-02,\n",
       "         0.00000000e+00,   5.16014061e-02,   7.17392223e-01,\n",
       "         1.43149351e-01,   5.77247643e-02,   5.35070290e-02,\n",
       "         5.35070290e-02,   4.87810192e-01,   0.00000000e+00,\n",
       "         5.35070290e-02,   5.35070290e-02,   5.35070290e-02,\n",
       "         5.35070290e-02,   3.25191619e-06,   5.87523698e-02,\n",
       "         5.35070290e-02,   0.00000000e+00,   5.35070290e-02,\n",
       "         1.43149351e-01,   5.35070290e-02,   8.01437997e-01,\n",
       "         5.35070290e-02,   5.35070290e-02,   5.35070290e-02,\n",
       "         5.35070290e-02,   5.35070290e-02,   5.35070290e-02,\n",
       "         5.35070290e-02,   5.35070290e-02,   5.35070290e-02,\n",
       "         5.35070290e-02,   6.83549532e-01,   2.11598935e-01,\n",
       "         7.17392223e-01,   5.35070290e-02,   6.78486298e-01,\n",
       "         5.35070290e-02,   6.94329634e-01,   7.17392223e-01,\n",
       "         5.35070290e-02,   5.77247643e-02,   1.43149351e-01,\n",
       "         5.35070290e-02,   1.67083454e-01,   5.35070290e-02,\n",
       "         3.32020643e-03,   9.04032701e-04,   5.35070290e-02,\n",
       "         0.00000000e+00,   5.35070290e-02,   5.35070290e-02,\n",
       "         1.35016308e-01,   1.43149351e-01,   5.35070290e-02,\n",
       "         5.35070290e-02,   5.35070290e-02,   5.16014061e-02,\n",
       "         5.85159555e-01,   5.35070290e-02,   5.35070290e-02,\n",
       "         5.35070290e-02,   5.35070290e-02,   5.35070290e-02,\n",
       "         0.00000000e+00,   5.35070290e-02,   5.35070290e-02,\n",
       "         5.35070290e-02,   5.35070290e-02,   1.35016308e-01,\n",
       "         5.35070290e-02,   7.17392223e-01,   0.00000000e+00,\n",
       "         1.43149351e-01,   5.35070290e-02,   5.35070290e-02,\n",
       "         7.17392223e-01,   5.35070290e-02,   1.43149351e-01,\n",
       "         2.50904846e-01,   5.35070290e-02,   5.35070290e-02,\n",
       "         5.32959797e-01,   5.35070290e-02,   1.43149351e-01,\n",
       "         8.01177844e-01,   5.35070290e-02,   7.17392223e-01,\n",
       "         5.87523698e-02,   5.35070290e-02,   5.16274215e-02,\n",
       "         5.35070290e-02,   1.35016308e-01,   5.35070290e-02,\n",
       "         1.43149351e-01,   5.77247643e-02,   0.00000000e+00,\n",
       "         3.32020643e-03,   5.35070290e-02,   8.01177844e-01,\n",
       "         7.17392223e-01,   5.35070290e-02,   5.35070290e-02,\n",
       "         5.66776473e-02,   5.35070290e-02,   5.35070290e-02,\n",
       "         5.35070290e-02,   5.16274215e-02,   5.35070290e-02,\n",
       "         5.16274215e-02,   1.67083454e-01,   1.10259470e-01,\n",
       "         5.35070290e-02,   5.35070290e-02,   5.35070290e-02,\n",
       "         5.35070290e-02,   5.35070290e-02,   5.16014061e-02,\n",
       "         5.35070290e-02,   5.35070290e-02,   5.35070290e-02,\n",
       "         5.35070290e-02,   5.35070290e-02,   5.77247643e-02,\n",
       "         5.87523698e-02,   5.35070290e-02,   0.00000000e+00,\n",
       "         5.35070290e-02,   1.43149351e-01,   5.35070290e-02,\n",
       "         5.35070290e-02,   8.01177844e-01,   0.00000000e+00,\n",
       "         8.01177844e-01,   5.35070290e-02,   5.35070290e-02,\n",
       "         5.35070290e-02,   5.35070290e-02,   5.35070290e-02,\n",
       "         5.35070290e-02,   5.35070290e-02,   5.16274215e-02,\n",
       "         5.35070290e-02,   5.35070290e-02,   5.35070290e-02,\n",
       "         5.35070290e-02,   1.43149351e-01,   0.00000000e+00,\n",
       "         5.35070290e-02,   7.17392223e-01,   8.01177844e-01,\n",
       "         1.43149351e-01,   5.88304158e-02,   5.87523698e-02,\n",
       "         5.35070290e-02,   5.87523698e-02,   6.94329634e-01,\n",
       "         5.77247643e-02,   5.35070290e-02,   5.35070290e-02,\n",
       "         5.35070290e-02,   5.35070290e-02,   0.00000000e+00,\n",
       "         5.35070290e-02,   7.17392223e-01,   7.17392223e-01,\n",
       "         5.35070290e-02,   1.43149351e-01,   4.02018139e-01,\n",
       "         5.35070290e-02,   5.35070290e-02,   5.35070290e-02,\n",
       "         0.00000000e+00,   5.35070290e-02,   5.35070290e-02,\n",
       "         5.35070290e-02,   5.35070290e-02,   8.01177844e-01,\n",
       "         5.35070290e-02,   5.35070290e-02,   5.35070290e-02,\n",
       "         5.35070290e-02,   5.35070290e-02,   5.35070290e-02,\n",
       "         5.35070290e-02,   1.43149351e-01,   1.43149351e-01,\n",
       "         5.35070290e-02,   5.35070290e-02,   1.43149351e-01,\n",
       "         5.35070290e-02,   5.35070290e-02,   1.43149351e-01,\n",
       "         5.01933264e-01,   0.00000000e+00,   1.43149351e-01,\n",
       "         5.35070290e-02,   5.35070290e-02,   5.87523698e-02,\n",
       "         5.35070290e-02,   5.35070290e-02,   5.35070290e-02,\n",
       "         5.35070290e-02,   1.43149351e-01,   5.35070290e-02,\n",
       "         5.35070290e-02,   7.17392223e-01,   5.77247643e-02,\n",
       "         5.35070290e-02,   0.00000000e+00,   5.35070290e-02,\n",
       "         7.39817437e-01,   5.35070290e-02,   5.35070290e-02,\n",
       "         5.35070290e-02,   8.01177844e-01,   5.87523698e-02,\n",
       "         1.43149351e-01,   5.35070290e-02,   6.98722973e-01,\n",
       "         0.00000000e+00,   0.00000000e+00,   0.00000000e+00,\n",
       "         5.35070290e-02,   5.35070290e-02,   5.35070290e-02,\n",
       "         5.03487680e-01,   5.48630781e-02,   5.35070290e-02,\n",
       "         6.98722973e-01,   5.35070290e-02,   5.35070290e-02,\n",
       "         5.35070290e-02,   0.00000000e+00,   7.17392223e-01,\n",
       "         6.78486298e-01,   5.35070290e-02,   5.35070290e-02,\n",
       "         5.35070290e-02,   9.85011918e-01,   5.35070290e-02,\n",
       "         5.35070290e-02,   5.35070290e-02,   5.35070290e-02,\n",
       "         7.17392223e-01,   5.35070290e-02,   5.35070290e-02,\n",
       "         5.88304158e-02,   5.35070290e-02,   5.35070290e-02,\n",
       "         5.35070290e-02,   6.64977838e-01,   7.17392223e-01,\n",
       "         0.00000000e+00,   5.35070290e-02,   0.00000000e+00,\n",
       "         5.35070290e-02,   8.01177844e-01,   5.35070290e-02,\n",
       "         5.35070290e-02,   5.35070290e-02,   5.35070290e-02,\n",
       "         7.17392223e-01,   7.17392223e-01,   5.35070290e-02,\n",
       "         5.87523698e-02,   5.35070290e-02,   5.35070290e-02,\n",
       "         5.35070290e-02,   5.35070290e-02,   5.35070290e-02,\n",
       "         7.39817437e-01,   5.35070290e-02,   1.43149351e-01,\n",
       "         1.10259470e-01,   5.35070290e-02,   5.35070290e-02,\n",
       "         5.35070290e-02,   5.35070290e-02,   5.35070290e-02,\n",
       "         5.35070290e-02,   5.35070290e-02,   5.35070290e-02,\n",
       "         5.35070290e-02,   5.66776473e-02,   5.35070290e-02,\n",
       "         5.16014061e-02,   5.35070290e-02,   5.35070290e-02,\n",
       "         1.43149351e-01,   5.35070290e-02,   9.85011918e-01,\n",
       "         5.35070290e-02,   5.35070290e-02,   1.43149351e-01,\n",
       "         5.87523698e-02,   0.00000000e+00,   5.87523698e-02,\n",
       "         5.87523698e-02,   1.43149351e-01,   1.43149351e-01,\n",
       "         0.00000000e+00,   5.51791643e-01,   0.00000000e+00,\n",
       "         5.93767377e-01,   0.00000000e+00,   5.35070290e-02,\n",
       "         1.43149351e-01,   0.00000000e+00,   5.35070290e-02,\n",
       "         6.98722973e-01,   5.35070290e-02,   7.17392223e-01,\n",
       "         5.35070290e-02,   5.87523698e-02,   0.00000000e+00,\n",
       "         5.35070290e-02,   5.35070290e-02,   1.35016308e-01,\n",
       "         7.17392223e-01,   5.35070290e-02,   7.17392223e-01,\n",
       "         5.35070290e-02,   5.35070290e-02,   5.35070290e-02,\n",
       "         5.35070290e-02,   5.35070290e-02,   5.35070290e-02,\n",
       "         5.35070290e-02,   5.87523698e-02,   5.03487680e-01,\n",
       "         1.43149351e-01,   1.43149351e-01,   1.50462910e-01,\n",
       "         5.35070290e-02,   7.39817437e-01,   1.43149351e-01,\n",
       "         5.35070290e-02,   1.43149351e-01,   5.35070290e-02,\n",
       "         0.00000000e+00,   5.35070290e-02,   5.35070290e-02,\n",
       "         1.43149351e-01,   1.43149351e-01,   6.83549532e-01,\n",
       "         5.35070290e-02,   0.00000000e+00,   1.43149351e-01,\n",
       "         5.16014061e-02,   5.35070290e-02,   5.35070290e-02,\n",
       "         5.35070290e-02,   0.00000000e+00,   5.35070290e-02,\n",
       "         7.17392223e-01,   5.35070290e-02,   4.97608216e-01,\n",
       "         5.35070290e-02,   7.17392223e-01,   5.87523698e-02,\n",
       "         5.35070290e-02,   7.17392223e-01,   1.43149351e-01,\n",
       "         0.00000000e+00,   0.00000000e+00,   8.01177844e-01,\n",
       "         5.35070290e-02,   5.35070290e-02,   5.35070290e-02,\n",
       "         5.35070290e-02,   1.10259470e-01,   7.17392223e-01,\n",
       "         2.11598935e-01,   5.35070290e-02,   5.63810725e-01,\n",
       "         5.35070290e-02,   5.48630781e-02,   5.35070290e-02,\n",
       "         1.10259470e-01,   0.00000000e+00,   5.87523698e-02,\n",
       "         1.43149351e-01,   5.35070290e-02,   8.01177844e-01,\n",
       "         5.35070290e-02,   9.85011918e-01,   5.35070290e-02,\n",
       "         5.77247643e-02,   1.43149351e-01,   5.35070290e-02,\n",
       "         7.17392223e-01,   5.35070290e-02,   4.97608216e-01,\n",
       "         1.43149351e-01,   5.35070290e-02,   5.35070290e-02,\n",
       "         5.35070290e-02,   1.43149351e-01,   1.43149351e-01,\n",
       "         1.43152603e-01,   1.43149351e-01,   5.16014061e-02,\n",
       "         5.87523698e-02,   1.43149351e-01,   5.35070290e-02,\n",
       "         5.35070290e-02,   5.35070290e-02,   2.50904846e-01,\n",
       "         5.93767377e-01,   5.07497293e-01,   5.35070290e-02,\n",
       "         5.35070290e-02,   1.43149351e-01,   1.43149351e-01,\n",
       "         5.35070290e-02,   5.35070290e-02,   5.35070290e-02,\n",
       "         7.17392223e-01,   5.35070290e-02,   5.35070290e-02,\n",
       "         5.35070290e-02,   5.35070290e-02,   1.43152603e-01,\n",
       "         5.35070290e-02,   5.35070290e-02,   5.35070290e-02,\n",
       "         5.35070290e-02,   7.17392223e-01,   1.43149351e-01,\n",
       "         5.77247643e-02,   5.35070290e-02,   5.87523698e-02,\n",
       "         0.00000000e+00,   7.17392223e-01,   0.00000000e+00,\n",
       "         5.35070290e-02,   5.07497293e-01,   5.35070290e-02,\n",
       "         5.16014061e-02,   9.85011918e-01,   5.35070290e-02,\n",
       "         5.35070290e-02,   7.17392223e-01,   1.50462910e-01,\n",
       "         5.35070290e-02,   5.35070290e-02,   1.67083454e-01,\n",
       "         5.35070290e-02,   5.35070290e-02,   5.35070290e-02,\n",
       "         9.85011918e-01,   1.43149351e-01,   1.43149351e-01,\n",
       "         0.00000000e+00,   0.00000000e+00,   5.48565742e-02,\n",
       "         5.35070290e-02,   1.43149351e-01,   5.87523698e-02,\n",
       "         0.00000000e+00,   5.66776473e-02,   5.77247643e-02,\n",
       "         5.35070290e-02,   5.35070290e-02,   5.87523698e-02,\n",
       "         5.35070290e-02,   0.00000000e+00,   5.35070290e-02,\n",
       "         2.50904846e-01,   5.35070290e-02,   1.43149351e-01,\n",
       "         5.35070290e-02,   1.43149351e-01,   4.97608216e-01,\n",
       "         5.35070290e-02,   5.35070290e-02,   5.87523698e-02,\n",
       "         5.88304158e-02,   5.77247643e-02,   5.87523698e-02,\n",
       "         5.48630781e-02,   5.35070290e-02,   7.17392223e-01,\n",
       "         5.35070290e-02,   5.35070290e-02,   0.00000000e+00,\n",
       "         5.35070290e-02,   7.17392223e-01,   5.35070290e-02,\n",
       "         0.00000000e+00,   5.35070290e-02,   5.35070290e-02,\n",
       "         5.35070290e-02,   5.35070290e-02,   0.00000000e+00,\n",
       "         7.17392223e-01,   5.88304158e-02,   1.43149351e-01,\n",
       "         7.17392223e-01,   5.35070290e-02,   1.43149351e-01,\n",
       "         5.35070290e-02,   7.17392223e-01,   0.00000000e+00,\n",
       "         5.35070290e-02,   5.03487680e-01,   7.17392223e-01,\n",
       "         5.87523698e-02,   5.35070290e-02,   1.43149351e-01,\n",
       "         1.43149351e-01,   5.35070290e-02,   5.35070290e-02,\n",
       "         5.35070290e-02,   5.35070290e-02,   5.35070290e-02,\n",
       "         5.35070290e-02,   5.35070290e-02,   7.17392223e-01,\n",
       "         5.35070290e-02,   7.17392223e-01,   8.01177844e-01,\n",
       "         5.16274215e-02,   5.93767377e-01,   5.35070290e-02])"
      ]
     },
     "execution_count": 65,
     "metadata": {},
     "output_type": "execute_result"
    }
   ],
   "source": [
    "x_ismissing"
   ]
  },
  {
   "cell_type": "code",
   "execution_count": 76,
   "metadata": {},
   "outputs": [],
   "source": [
    "FeatureReducer = FunctionTransformer(func = _feature_reducer, validate= False)"
   ]
  },
  {
   "cell_type": "code",
   "execution_count": 111,
   "metadata": {},
   "outputs": [
    {
     "data": {
      "text/plain": [
       "<module 'src.utils' from '/Users/bchnge/Documents/GitHub/home-credit-default-risk/src/utils.py'>"
      ]
     },
     "execution_count": 111,
     "metadata": {},
     "output_type": "execute_result"
    }
   ],
   "source": [
    "reload(utils)"
   ]
  },
  {
   "cell_type": "code",
   "execution_count": 115,
   "metadata": {},
   "outputs": [],
   "source": [
    "reducer = utils.NanReducer()"
   ]
  },
  {
   "cell_type": "code",
   "execution_count": 116,
   "metadata": {},
   "outputs": [],
   "source": [
    "a = reducer.fit_transform(data.X_train)"
   ]
  },
  {
   "cell_type": "code",
   "execution_count": 118,
   "metadata": {},
   "outputs": [],
   "source": [
    "b = reducer.transform(data.X_test)"
   ]
  },
  {
   "cell_type": "code",
   "execution_count": 139,
   "metadata": {},
   "outputs": [
    {
     "data": {
      "text/plain": [
       "<module 'src.classes' from '/Users/bchnge/Documents/GitHub/home-credit-default-risk/src/classes.py'>"
      ]
     },
     "execution_count": 139,
     "metadata": {},
     "output_type": "execute_result"
    }
   ],
   "source": [
    "reload(classes)"
   ]
  },
  {
   "cell_type": "code",
   "execution_count": 120,
   "metadata": {},
   "outputs": [],
   "source": [
    "from sklearn.preprocessing import Imputer"
   ]
  },
  {
   "cell_type": "code",
   "execution_count": 122,
   "metadata": {},
   "outputs": [],
   "source": [
    "M1 = classes.Model(Pipeline([('impute', Imputer()),\n",
    "                             ('clf', LogisticRegression())]),\n",
    "          name = 'logistic regression',\n",
    "          desc = 'logistic regression base')\n",
    "\n",
    "M2 = classes.Model(LGBMClassifier(),\n",
    "          name = \"lgbm\",\n",
    "          desc = \"lgbm\")\n",
    "\n",
    "M3 = classes.Model(Pipeline([('impute', Imputer()),\n",
    "                             ('clf', GaussianNB())]),\n",
    "          name = 'gaussian nb',\n",
    "          desc = 'gnb')\n",
    "\n",
    "models = [M1, M2, M3]"
   ]
  },
  {
   "cell_type": "code",
   "execution_count": 123,
   "metadata": {},
   "outputs": [
    {
     "name": "stdout",
     "output_type": "stream",
     "text": [
      "logistic regression\n",
      "lgbm\n",
      "gaussian nb\n"
     ]
    }
   ],
   "source": [
    "for m in models:\n",
    "    print(m.name)\n",
    "    m.train(data.X_train, data.y_train)"
   ]
  },
  {
   "cell_type": "code",
   "execution_count": 125,
   "metadata": {},
   "outputs": [],
   "source": [
    "M1.validate_model(data.X_train, data.y_train)\n"
   ]
  },
  {
   "cell_type": "code",
   "execution_count": 126,
   "metadata": {},
   "outputs": [],
   "source": [
    "M2.validate_model(data.X_train, data.y_train)\n",
    "M3.validate_model(data.X_train, data.y_train)\n"
   ]
  },
  {
   "cell_type": "code",
   "execution_count": 128,
   "metadata": {},
   "outputs": [],
   "source": [
    "M1_features = M2_features = M3_features = list(data.X_train.columns)"
   ]
  },
  {
   "cell_type": "code",
   "execution_count": 141,
   "metadata": {},
   "outputs": [
    {
     "name": "stdout",
     "output_type": "stream",
     "text": [
      "0.640515328903\n",
      "0.778392647709\n",
      "0.611205219084\n"
     ]
    }
   ],
   "source": [
    "for m in models:\n",
    "    print(m.validation_scores.mean())"
   ]
  },
  {
   "cell_type": "code",
   "execution_count": 158,
   "metadata": {},
   "outputs": [
    {
     "data": {
      "text/plain": [
       "<module 'src.classes' from '/Users/bchnge/Documents/GitHub/home-credit-default-risk/src/classes.py'>"
      ]
     },
     "execution_count": 158,
     "metadata": {},
     "output_type": "execute_result"
    }
   ],
   "source": [
    "reload(classes)"
   ]
  },
  {
   "cell_type": "code",
   "execution_count": 159,
   "metadata": {},
   "outputs": [],
   "source": [
    "mc = classes.ModelCollection([(M1, M1_features),\n",
    "                              (M2, M2_features),\n",
    "                              (M3, M3_features)])"
   ]
  },
  {
   "cell_type": "code",
   "execution_count": 160,
   "metadata": {},
   "outputs": [],
   "source": [
    "mc.validate_model(data.X_train, data.y_train)"
   ]
  },
  {
   "cell_type": "code",
   "execution_count": 164,
   "metadata": {},
   "outputs": [
    {
     "data": {
      "text/plain": [
       "0.55456610917131322"
      ]
     },
     "execution_count": 164,
     "metadata": {},
     "output_type": "execute_result"
    }
   ],
   "source": [
    "mc.validation_scores_stack.get('test_score').mean()"
   ]
  },
  {
   "cell_type": "code",
   "execution_count": 166,
   "metadata": {},
   "outputs": [],
   "source": [
    "from sklearn.feature_selection import SelectFromModel"
   ]
  },
  {
   "cell_type": "code",
   "execution_count": 167,
   "metadata": {},
   "outputs": [],
   "source": [
    "mdl = LogisticRegression()"
   ]
  },
  {
   "cell_type": "code",
   "execution_count": 174,
   "metadata": {},
   "outputs": [],
   "source": [
    "a = SelectFromModel(M1.clf, threshold = 0.25, prefit = True)"
   ]
  },
  {
   "cell_type": "code",
   "execution_count": 175,
   "metadata": {},
   "outputs": [
    {
     "data": {
      "text/plain": [
       "Pipeline(memory=None,\n",
       "     steps=[('impute', Imputer(axis=0, copy=True, missing_values='NaN', strategy='mean', verbose=0)), ('clf', LogisticRegression(C=1.0, class_weight=None, dual=False, fit_intercept=True,\n",
       "          intercept_scaling=1, max_iter=100, multi_class='ovr', n_jobs=1,\n",
       "          penalty='l2', random_state=None, solver='liblinear', tol=0.0001,\n",
       "          verbose=0, warm_start=False))])"
      ]
     },
     "execution_count": 175,
     "metadata": {},
     "output_type": "execute_result"
    }
   ],
   "source": [
    "a.estimator"
   ]
  },
  {
   "cell_type": "code",
   "execution_count": 180,
   "metadata": {
    "scrolled": true
   },
   "outputs": [],
   "source": [
    "piper = Pipeline([('impute', Imputer()),\n",
    "                  ('lr', LogisticRegression(penalty = 'l1'))])"
   ]
  },
  {
   "cell_type": "code",
   "execution_count": 181,
   "metadata": {},
   "outputs": [],
   "source": [
    "a = SelectFromModel(piper, threshold = 0.25)"
   ]
  },
  {
   "cell_type": "code",
   "execution_count": null,
   "metadata": {},
   "outputs": [],
   "source": [
    "a.transform(data.X_train)"
   ]
  },
  {
   "cell_type": "code",
   "execution_count": 152,
   "metadata": {},
   "outputs": [],
   "source": [
    "from mlxtend.classifier import StackingClassifier"
   ]
  },
  {
   "cell_type": "code",
   "execution_count": 154,
   "metadata": {},
   "outputs": [],
   "source": [
    "a = StackingClassifier([M1, M2], LogisticRegression())"
   ]
  },
  {
   "cell_type": "code",
   "execution_count": 156,
   "metadata": {},
   "outputs": [],
   "source": [
    "from sklearn.model_selection import cross_validate"
   ]
  },
  {
   "cell_type": "code",
   "execution_count": null,
   "metadata": {},
   "outputs": [],
   "source": [
    "b = cross_validate(a, )"
   ]
  },
  {
   "cell_type": "code",
   "execution_count": null,
   "metadata": {},
   "outputs": [],
   "source": [
    "#############################################################\n",
    "models = {}\n",
    "for m in M:\n",
    "    # Define a model\n",
    "    models[m] = {}\n",
    "\n",
    "    # Tune parameters\n",
    "    tuner = Tuner(m, data.X_train, data.y_train)\n",
    "    for k in range(1,5):\n",
    "        tuner.tune(kappa = k, pbounds = {}, n_iters = 10)\n",
    "    \n",
    "\n",
    "# Compare and stack models\n",
    "mc = ModelCollection(models)"
   ]
  }
 ],
 "metadata": {
  "kernelspec": {
   "display_name": "Python 3",
   "language": "python",
   "name": "python3"
  },
  "language_info": {
   "codemirror_mode": {
    "name": "ipython",
    "version": 3
   },
   "file_extension": ".py",
   "mimetype": "text/x-python",
   "name": "python",
   "nbconvert_exporter": "python",
   "pygments_lexer": "ipython3",
   "version": "3.6.3"
  }
 },
 "nbformat": 4,
 "nbformat_minor": 2
}

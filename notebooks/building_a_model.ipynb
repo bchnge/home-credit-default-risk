{
 "cells": [
  {
   "cell_type": "code",
   "execution_count": 7,
   "metadata": {},
   "outputs": [
    {
     "name": "stdout",
     "output_type": "stream",
     "text": [
      "/Users/bchnge/Documents/GitHub/home-credit-default-risk\n"
     ]
    }
   ],
   "source": [
    "cd '/Users/bchnge/Documents/GitHub/home-credit-default-risk/'"
   ]
  },
  {
   "cell_type": "code",
   "execution_count": 13,
   "metadata": {},
   "outputs": [],
   "source": [
    "from src import proj_utils, utils, classes"
   ]
  },
  {
   "cell_type": "code",
   "execution_count": 14,
   "metadata": {},
   "outputs": [],
   "source": [
    "from importlib import reload"
   ]
  },
  {
   "cell_type": "code",
   "execution_count": 10,
   "metadata": {},
   "outputs": [],
   "source": [
    "from pprint import pprint"
   ]
  },
  {
   "cell_type": "code",
   "execution_count": 11,
   "metadata": {},
   "outputs": [],
   "source": [
    "from lightgbm.sklearn import LGBMClassifier"
   ]
  },
  {
   "cell_type": "code",
   "execution_count": 16,
   "metadata": {
    "scrolled": true
   },
   "outputs": [
    {
     "name": "stdout",
     "output_type": "stream",
     "text": [
      "Loading training applications\n",
      "Loading previous_application.csv.zip\n",
      "Loading credit_card_balance.csv.zip\n",
      "Loading installments_payments.csv.zip\n",
      "Loading POS_CASH_balance.csv.zip\n",
      "Loading bureau.csv.zip\n",
      "Loading test applications\n",
      "Loading previous_application.csv.zip\n",
      "Loading credit_card_balance.csv.zip\n",
      "Loading installments_payments.csv.zip\n",
      "Loading POS_CASH_balance.csv.zip\n",
      "Loading bureau.csv.zip\n"
     ]
    }
   ],
   "source": [
    "# Load data\n",
    "df_train = proj_utils.load_data(data_path= '/Users/bchnge/data/home-credit-default-risk/',\n",
    "                                train = True,\n",
    "                                supp_dict = {'previous_application.csv.zip' : 'max',\n",
    "                                             'credit_card_balance.csv.zip' : 'mean',\n",
    "                                             'installments_payments.csv.zip' : 'min',\n",
    "                                             'POS_CASH_balance.csv.zip' : 'mean',\n",
    "                                             'bureau.csv.zip' : 'max'\n",
    "                                            })\n",
    "\n",
    "df_test = proj_utils.load_data(data_path = '/Users/bchnge/data/home-credit-default-risk/',\n",
    "                               train = False,\n",
    "                               supp_dict = {'previous_application.csv.zip' : 'max',\n",
    "                                            'credit_card_balance.csv.zip' : 'mean',\n",
    "                                            'installments_payments.csv.zip' : 'min',\n",
    "                                            'POS_CASH_balance.csv.zip' : 'mean',\n",
    "                                            'bureau.csv.zip' : 'max'\n",
    "                                           })"
   ]
  },
  {
   "cell_type": "code",
   "execution_count": 39,
   "metadata": {},
   "outputs": [
    {
     "data": {
      "text/plain": [
       "<module 'src.classes' from '/Users/bchnge/Documents/GitHub/home-credit-default-risk/src/classes.py'>"
      ]
     },
     "execution_count": 39,
     "metadata": {},
     "output_type": "execute_result"
    }
   ],
   "source": [
    "reload(utils)\n",
    "reload(classes)"
   ]
  },
  {
   "cell_type": "code",
   "execution_count": 40,
   "metadata": {
    "scrolled": true
   },
   "outputs": [
    {
     "name": "stdout",
     "output_type": "stream",
     "text": [
      "...creating training matrix\n",
      "...creating test matrix\n"
     ]
    }
   ],
   "source": [
    "data = classes.Dataset(df_train, df_test, 'TARGET')"
   ]
  },
  {
   "cell_type": "code",
   "execution_count": 52,
   "metadata": {},
   "outputs": [
    {
     "data": {
      "text/plain": [
       "Index(['NAME_PRODUCT_TYPE_x-sell_max', 'LIVINGAPARTMENTS_MEDI',\n",
       "       'NAME_CASH_LOAN_PURPOSE_Education_mean',\n",
       "       'NAME_CONTRACT_STATUS_Signed_4', 'NAME_CLIENT_TYPE_Repeater',\n",
       "       'AMT_RECEIVABLE_PRINCIPAL_max', 'NAME_GOODS_CATEGORY_Tourism_mean',\n",
       "       'NAME_CASH_LOAN_PURPOSE_Furniture_max',\n",
       "       'NAME_CONTRACT_STATUS_Refused_max', 'DAYS_LAST_DUE_1ST_VERSION',\n",
       "       ...\n",
       "       'NAME_GOODS_CATEGORY_Medicine',\n",
       "       'PRODUCT_COMBINATION_POS mobile with interest',\n",
       "       'CODE_REJECT_REASON_SYSTEM_mean', 'AMT_BALANCE_mean',\n",
       "       'CODE_REJECT_REASON_SYSTEM_max', 'NAME_CONTRACT_STATUS_Active',\n",
       "       'CNT_DRAWINGS_ATM_CURRENT_max', 'AMT_PAYMENT_max', 'LANDAREA_MEDI',\n",
       "       'NAME_TYPE_SUITE_Group of people_mean'],\n",
       "      dtype='object', length=837)"
      ]
     },
     "execution_count": 52,
     "metadata": {},
     "output_type": "execute_result"
    }
   ],
   "source": [
    "data.X_train.columnsumns"
   ]
  },
  {
   "cell_type": "code",
   "execution_count": 46,
   "metadata": {},
   "outputs": [],
   "source": [
    "\n",
    "# Clean and transform data\n",
    "\n",
    "# Determine initial feature importances\n",
    "data.ae_train_model(model = LGBMClassifier(n_estimators= 100, n_jobs=4))"
   ]
  },
  {
   "cell_type": "code",
   "execution_count": 48,
   "metadata": {},
   "outputs": [],
   "source": [
    "# Auto-discover ratios weighted by feature importance\n",
    "data.autoengineer_ratios(ae_params={'boosting_type': 'gbdt',\n",
    "                                    'max_depth': -1,\n",
    "                                    'objective': 'binary',\n",
    "                                    'learning_rate': 0.0212,\n",
    "                                    'reg_alpha': 0.8,\n",
    "                                    'reg_lambda': 0.4,\n",
    "                                    'subsample': 1,\n",
    "                                    'feature_fraction': 0.3,\n",
    "                                    'metric': 'auc',\n",
    "                                    'random_state': 123,\n",
    "                                    'n_estimators': 300, \n",
    "                                    'num_leaves': 40,\n",
    "                                    'max_bin': 255,\n",
    "                                    'min_data_in_leaf': 2400,\n",
    "                                    'min_data_in_bin': 5},\n",
    "                         n_iter = 10)"
   ]
  },
  {
   "cell_type": "code",
   "execution_count": 53,
   "metadata": {},
   "outputs": [
    {
     "data": {
      "text/plain": [
       "[('DAYS_REGISTRATION', 'DAYS_LAST_DUE_1ST_VERSION_max', 1.0004759447305511),\n",
       " ('DAYS_INSTALMENT_mean', 'AMT_CREDIT_LIMIT_ACTUAL_mean', 1.0019457740250499)]"
      ]
     },
     "execution_count": 53,
     "metadata": {},
     "output_type": "execute_result"
    }
   ],
   "source": [
    "data.ae_discovery_ratios"
   ]
  },
  {
   "cell_type": "code",
   "execution_count": 54,
   "metadata": {},
   "outputs": [],
   "source": [
    "from sklearn.linear_model import LogisticRegression\n",
    "from sklearn.naive_bayes import GaussianNB\n",
    "from sklearn.pipeline import Pipeline"
   ]
  },
  {
   "cell_type": "code",
   "execution_count": 58,
   "metadata": {},
   "outputs": [],
   "source": [
    "from sklearn.preprocessing import FunctionTransformer"
   ]
  },
  {
   "cell_type": "code",
   "execution_count": 60,
   "metadata": {},
   "outputs": [],
   "source": [
    "x = data.X_train.values"
   ]
  },
  {
   "cell_type": "code",
   "execution_count": 61,
   "metadata": {},
   "outputs": [],
   "source": [
    "import numpy as np"
   ]
  },
  {
   "cell_type": "code",
   "execution_count": 63,
   "metadata": {},
   "outputs": [],
   "source": []
  },
  {
   "cell_type": "code",
   "execution_count": 65,
   "metadata": {},
   "outputs": [
    {
     "data": {
      "text/plain": [
       "array([  5.35070290e-02,   6.83549532e-01,   5.35070290e-02,\n",
       "         5.87523698e-02,   5.35070290e-02,   7.17392223e-01,\n",
       "         5.35070290e-02,   5.35070290e-02,   5.35070290e-02,\n",
       "         5.77247643e-02,   5.35070290e-02,   5.35070290e-02,\n",
       "         0.00000000e+00,   1.43149351e-01,   2.11598935e-01,\n",
       "         1.43149351e-01,   5.51791643e-01,   6.64977838e-01,\n",
       "         5.35070290e-02,   5.35070290e-02,   5.87523698e-02,\n",
       "         7.17392223e-01,   5.48565742e-02,   5.87523698e-02,\n",
       "         5.35070290e-02,   5.35070290e-02,   5.35070290e-02,\n",
       "         5.87523698e-02,   5.35070290e-02,   2.14626469e-03,\n",
       "         7.17392223e-01,   8.01177844e-01,   1.43149351e-01,\n",
       "         5.35070290e-02,   8.01177844e-01,   5.35070290e-02,\n",
       "         5.35070290e-02,   1.43149351e-01,   5.48565742e-02,\n",
       "         5.35070290e-02,   1.43149351e-01,   5.87523698e-02,\n",
       "         1.98253071e-01,   5.35070290e-02,   7.17392223e-01,\n",
       "         5.87523698e-02,   1.43149351e-01,   5.35070290e-02,\n",
       "         5.35070290e-02,   9.85011918e-01,   5.35070290e-02,\n",
       "         5.35070290e-02,   5.01933264e-01,   5.35070290e-02,\n",
       "         7.17392223e-01,   1.43149351e-01,   0.00000000e+00,\n",
       "         5.35070290e-02,   5.16014061e-02,   1.43149351e-01,\n",
       "         1.43149351e-01,   5.35070290e-02,   5.35070290e-02,\n",
       "         5.35070290e-02,   5.35070290e-02,   5.35070290e-02,\n",
       "         5.35070290e-02,   7.17392223e-01,   5.35070290e-02,\n",
       "         1.43149351e-01,   5.35070290e-02,   5.35070290e-02,\n",
       "         5.35070290e-02,   5.35070290e-02,   5.35070290e-02,\n",
       "         5.35070290e-02,   5.35070290e-02,   5.77247643e-02,\n",
       "         5.35070290e-02,   5.35070290e-02,   5.35070290e-02,\n",
       "         5.77247643e-02,   5.35070290e-02,   5.35070290e-02,\n",
       "         0.00000000e+00,   5.35070290e-02,   1.43149351e-01,\n",
       "         5.35070290e-02,   5.35070290e-02,   5.35070290e-02,\n",
       "         5.35070290e-02,   5.35070290e-02,   5.35070290e-02,\n",
       "         5.35070290e-02,   5.35070290e-02,   5.35070290e-02,\n",
       "         5.35070290e-02,   7.17392223e-01,   5.35070290e-02,\n",
       "         0.00000000e+00,   3.32020643e-03,   5.35070290e-02,\n",
       "         5.35070290e-02,   6.78486298e-01,   1.43149351e-01,\n",
       "         1.43149351e-01,   1.43149351e-01,   5.35070290e-02,\n",
       "         3.90229943e-05,   8.01437997e-01,   7.17392223e-01,\n",
       "         5.77247643e-02,   5.35070290e-02,   4.87810192e-01,\n",
       "         5.87523698e-02,   4.02018139e-01,   1.43149351e-01,\n",
       "         1.10259470e-01,   5.35070290e-02,   5.35070290e-02,\n",
       "         0.00000000e+00,   5.35070290e-02,   5.77247643e-02,\n",
       "         7.17392223e-01,   1.43149351e-01,   5.35070290e-02,\n",
       "         5.35070290e-02,   5.35070290e-02,   4.87810192e-01,\n",
       "         5.35070290e-02,   5.35070290e-02,   1.43149351e-01,\n",
       "         5.35070290e-02,   5.35070290e-02,   5.35070290e-02,\n",
       "         5.87523698e-02,   0.00000000e+00,   5.35070290e-02,\n",
       "         5.77247643e-02,   5.35070290e-02,   5.35070290e-02,\n",
       "         1.43149351e-01,   1.43149351e-01,   5.35070290e-02,\n",
       "         7.17392223e-01,   1.43149351e-01,   5.35070290e-02,\n",
       "         5.87523698e-02,   5.88304158e-02,   5.35070290e-02,\n",
       "         6.59908101e-01,   0.00000000e+00,   6.94329634e-01,\n",
       "         7.17392223e-01,   5.35070290e-02,   8.01177844e-01,\n",
       "         0.00000000e+00,   5.35070290e-02,   5.35070290e-02,\n",
       "         5.35070290e-02,   5.35070290e-02,   5.35070290e-02,\n",
       "         5.35070290e-02,   0.00000000e+00,   0.00000000e+00,\n",
       "         5.35070290e-02,   5.35070290e-02,   5.35070290e-02,\n",
       "         5.35070290e-02,   5.35070290e-02,   5.87523698e-02,\n",
       "         5.77247643e-02,   5.35070290e-02,   5.35070290e-02,\n",
       "         8.01437997e-01,   5.35070290e-02,   5.35070290e-02,\n",
       "         1.50462910e-01,   5.35070290e-02,   1.43149351e-01,\n",
       "         5.35070290e-02,   5.35070290e-02,   5.35070290e-02,\n",
       "         5.35070290e-02,   5.16014061e-02,   5.35070290e-02,\n",
       "         5.35070290e-02,   5.16274215e-02,   1.43149351e-01,\n",
       "         0.00000000e+00,   5.35070290e-02,   5.35070290e-02,\n",
       "         5.35070290e-02,   6.50383238e-06,   5.35070290e-02,\n",
       "         5.32959797e-01,   5.35070290e-02,   5.35070290e-02,\n",
       "         5.35070290e-02,   5.35070290e-02,   5.35070290e-02,\n",
       "         1.43149351e-01,   0.00000000e+00,   6.64977838e-01,\n",
       "         5.16014061e-02,   5.35070290e-02,   5.35070290e-02,\n",
       "         1.43152603e-01,   8.01177844e-01,   5.35070290e-02,\n",
       "         5.35070290e-02,   7.17392223e-01,   4.02018139e-01,\n",
       "         1.10259470e-01,   5.35070290e-02,   5.35070290e-02,\n",
       "         5.35070290e-02,   5.35070290e-02,   7.17392223e-01,\n",
       "         5.35070290e-02,   5.51791643e-01,   5.35070290e-02,\n",
       "         5.35070290e-02,   5.77247643e-02,   5.35070290e-02,\n",
       "         5.35070290e-02,   5.35070290e-02,   7.17392223e-01,\n",
       "         5.35070290e-02,   5.35070290e-02,   0.00000000e+00,\n",
       "         5.35070290e-02,   5.35070290e-02,   5.35070290e-02,\n",
       "         5.35070290e-02,   5.35070290e-02,   5.35070290e-02,\n",
       "         5.35070290e-02,   3.32020643e-03,   5.35070290e-02,\n",
       "         5.35070290e-02,   5.35070290e-02,   5.35070290e-02,\n",
       "         5.35070290e-02,   0.00000000e+00,   5.35070290e-02,\n",
       "         1.43149351e-01,   7.17392223e-01,   5.35070290e-02,\n",
       "         5.35070290e-02,   1.43149351e-01,   5.35070290e-02,\n",
       "         5.35070290e-02,   5.35070290e-02,   1.43149351e-01,\n",
       "         0.00000000e+00,   5.35070290e-02,   5.35070290e-02,\n",
       "         5.35070290e-02,   8.01177844e-01,   7.17392223e-01,\n",
       "         5.35070290e-02,   5.35070290e-02,   1.43149351e-01,\n",
       "         5.35070290e-02,   5.35070290e-02,   4.82685172e-01,\n",
       "         5.35070290e-02,   5.35070290e-02,   1.35016308e-01,\n",
       "         7.17392223e-01,   5.35070290e-02,   5.35070290e-02,\n",
       "         5.35070290e-02,   5.35070290e-02,   5.35070290e-02,\n",
       "         1.43149351e-01,   5.35070290e-02,   5.35070290e-02,\n",
       "         5.35070290e-02,   5.35070290e-02,   0.00000000e+00,\n",
       "         5.35070290e-02,   5.35070290e-02,   5.16014061e-02,\n",
       "         8.01177844e-01,   5.85159555e-01,   5.85159555e-01,\n",
       "         0.00000000e+00,   5.35070290e-02,   5.35070290e-02,\n",
       "         5.35070290e-02,   5.01933264e-01,   1.43149351e-01,\n",
       "         5.35070290e-02,   5.88304158e-02,   5.35070290e-02,\n",
       "         5.35070290e-02,   5.07497293e-01,   7.17392223e-01,\n",
       "         5.35070290e-02,   8.01177844e-01,   5.35070290e-02,\n",
       "         1.35016308e-01,   5.32959797e-01,   5.35070290e-02,\n",
       "         5.35070290e-02,   5.16014061e-02,   0.00000000e+00,\n",
       "         5.35070290e-02,   5.35070290e-02,   5.35070290e-02,\n",
       "         0.00000000e+00,   5.16014061e-02,   7.17392223e-01,\n",
       "         1.43149351e-01,   5.77247643e-02,   5.35070290e-02,\n",
       "         5.35070290e-02,   4.87810192e-01,   0.00000000e+00,\n",
       "         5.35070290e-02,   5.35070290e-02,   5.35070290e-02,\n",
       "         5.35070290e-02,   3.25191619e-06,   5.87523698e-02,\n",
       "         5.35070290e-02,   0.00000000e+00,   5.35070290e-02,\n",
       "         1.43149351e-01,   5.35070290e-02,   8.01437997e-01,\n",
       "         5.35070290e-02,   5.35070290e-02,   5.35070290e-02,\n",
       "         5.35070290e-02,   5.35070290e-02,   5.35070290e-02,\n",
       "         5.35070290e-02,   5.35070290e-02,   5.35070290e-02,\n",
       "         5.35070290e-02,   6.83549532e-01,   2.11598935e-01,\n",
       "         7.17392223e-01,   5.35070290e-02,   6.78486298e-01,\n",
       "         5.35070290e-02,   6.94329634e-01,   7.17392223e-01,\n",
       "         5.35070290e-02,   5.77247643e-02,   1.43149351e-01,\n",
       "         5.35070290e-02,   1.67083454e-01,   5.35070290e-02,\n",
       "         3.32020643e-03,   9.04032701e-04,   5.35070290e-02,\n",
       "         0.00000000e+00,   5.35070290e-02,   5.35070290e-02,\n",
       "         1.35016308e-01,   1.43149351e-01,   5.35070290e-02,\n",
       "         5.35070290e-02,   5.35070290e-02,   5.16014061e-02,\n",
       "         5.85159555e-01,   5.35070290e-02,   5.35070290e-02,\n",
       "         5.35070290e-02,   5.35070290e-02,   5.35070290e-02,\n",
       "         0.00000000e+00,   5.35070290e-02,   5.35070290e-02,\n",
       "         5.35070290e-02,   5.35070290e-02,   1.35016308e-01,\n",
       "         5.35070290e-02,   7.17392223e-01,   0.00000000e+00,\n",
       "         1.43149351e-01,   5.35070290e-02,   5.35070290e-02,\n",
       "         7.17392223e-01,   5.35070290e-02,   1.43149351e-01,\n",
       "         2.50904846e-01,   5.35070290e-02,   5.35070290e-02,\n",
       "         5.32959797e-01,   5.35070290e-02,   1.43149351e-01,\n",
       "         8.01177844e-01,   5.35070290e-02,   7.17392223e-01,\n",
       "         5.87523698e-02,   5.35070290e-02,   5.16274215e-02,\n",
       "         5.35070290e-02,   1.35016308e-01,   5.35070290e-02,\n",
       "         1.43149351e-01,   5.77247643e-02,   0.00000000e+00,\n",
       "         3.32020643e-03,   5.35070290e-02,   8.01177844e-01,\n",
       "         7.17392223e-01,   5.35070290e-02,   5.35070290e-02,\n",
       "         5.66776473e-02,   5.35070290e-02,   5.35070290e-02,\n",
       "         5.35070290e-02,   5.16274215e-02,   5.35070290e-02,\n",
       "         5.16274215e-02,   1.67083454e-01,   1.10259470e-01,\n",
       "         5.35070290e-02,   5.35070290e-02,   5.35070290e-02,\n",
       "         5.35070290e-02,   5.35070290e-02,   5.16014061e-02,\n",
       "         5.35070290e-02,   5.35070290e-02,   5.35070290e-02,\n",
       "         5.35070290e-02,   5.35070290e-02,   5.77247643e-02,\n",
       "         5.87523698e-02,   5.35070290e-02,   0.00000000e+00,\n",
       "         5.35070290e-02,   1.43149351e-01,   5.35070290e-02,\n",
       "         5.35070290e-02,   8.01177844e-01,   0.00000000e+00,\n",
       "         8.01177844e-01,   5.35070290e-02,   5.35070290e-02,\n",
       "         5.35070290e-02,   5.35070290e-02,   5.35070290e-02,\n",
       "         5.35070290e-02,   5.35070290e-02,   5.16274215e-02,\n",
       "         5.35070290e-02,   5.35070290e-02,   5.35070290e-02,\n",
       "         5.35070290e-02,   1.43149351e-01,   0.00000000e+00,\n",
       "         5.35070290e-02,   7.17392223e-01,   8.01177844e-01,\n",
       "         1.43149351e-01,   5.88304158e-02,   5.87523698e-02,\n",
       "         5.35070290e-02,   5.87523698e-02,   6.94329634e-01,\n",
       "         5.77247643e-02,   5.35070290e-02,   5.35070290e-02,\n",
       "         5.35070290e-02,   5.35070290e-02,   0.00000000e+00,\n",
       "         5.35070290e-02,   7.17392223e-01,   7.17392223e-01,\n",
       "         5.35070290e-02,   1.43149351e-01,   4.02018139e-01,\n",
       "         5.35070290e-02,   5.35070290e-02,   5.35070290e-02,\n",
       "         0.00000000e+00,   5.35070290e-02,   5.35070290e-02,\n",
       "         5.35070290e-02,   5.35070290e-02,   8.01177844e-01,\n",
       "         5.35070290e-02,   5.35070290e-02,   5.35070290e-02,\n",
       "         5.35070290e-02,   5.35070290e-02,   5.35070290e-02,\n",
       "         5.35070290e-02,   1.43149351e-01,   1.43149351e-01,\n",
       "         5.35070290e-02,   5.35070290e-02,   1.43149351e-01,\n",
       "         5.35070290e-02,   5.35070290e-02,   1.43149351e-01,\n",
       "         5.01933264e-01,   0.00000000e+00,   1.43149351e-01,\n",
       "         5.35070290e-02,   5.35070290e-02,   5.87523698e-02,\n",
       "         5.35070290e-02,   5.35070290e-02,   5.35070290e-02,\n",
       "         5.35070290e-02,   1.43149351e-01,   5.35070290e-02,\n",
       "         5.35070290e-02,   7.17392223e-01,   5.77247643e-02,\n",
       "         5.35070290e-02,   0.00000000e+00,   5.35070290e-02,\n",
       "         7.39817437e-01,   5.35070290e-02,   5.35070290e-02,\n",
       "         5.35070290e-02,   8.01177844e-01,   5.87523698e-02,\n",
       "         1.43149351e-01,   5.35070290e-02,   6.98722973e-01,\n",
       "         0.00000000e+00,   0.00000000e+00,   0.00000000e+00,\n",
       "         5.35070290e-02,   5.35070290e-02,   5.35070290e-02,\n",
       "         5.03487680e-01,   5.48630781e-02,   5.35070290e-02,\n",
       "         6.98722973e-01,   5.35070290e-02,   5.35070290e-02,\n",
       "         5.35070290e-02,   0.00000000e+00,   7.17392223e-01,\n",
       "         6.78486298e-01,   5.35070290e-02,   5.35070290e-02,\n",
       "         5.35070290e-02,   9.85011918e-01,   5.35070290e-02,\n",
       "         5.35070290e-02,   5.35070290e-02,   5.35070290e-02,\n",
       "         7.17392223e-01,   5.35070290e-02,   5.35070290e-02,\n",
       "         5.88304158e-02,   5.35070290e-02,   5.35070290e-02,\n",
       "         5.35070290e-02,   6.64977838e-01,   7.17392223e-01,\n",
       "         0.00000000e+00,   5.35070290e-02,   0.00000000e+00,\n",
       "         5.35070290e-02,   8.01177844e-01,   5.35070290e-02,\n",
       "         5.35070290e-02,   5.35070290e-02,   5.35070290e-02,\n",
       "         7.17392223e-01,   7.17392223e-01,   5.35070290e-02,\n",
       "         5.87523698e-02,   5.35070290e-02,   5.35070290e-02,\n",
       "         5.35070290e-02,   5.35070290e-02,   5.35070290e-02,\n",
       "         7.39817437e-01,   5.35070290e-02,   1.43149351e-01,\n",
       "         1.10259470e-01,   5.35070290e-02,   5.35070290e-02,\n",
       "         5.35070290e-02,   5.35070290e-02,   5.35070290e-02,\n",
       "         5.35070290e-02,   5.35070290e-02,   5.35070290e-02,\n",
       "         5.35070290e-02,   5.66776473e-02,   5.35070290e-02,\n",
       "         5.16014061e-02,   5.35070290e-02,   5.35070290e-02,\n",
       "         1.43149351e-01,   5.35070290e-02,   9.85011918e-01,\n",
       "         5.35070290e-02,   5.35070290e-02,   1.43149351e-01,\n",
       "         5.87523698e-02,   0.00000000e+00,   5.87523698e-02,\n",
       "         5.87523698e-02,   1.43149351e-01,   1.43149351e-01,\n",
       "         0.00000000e+00,   5.51791643e-01,   0.00000000e+00,\n",
       "         5.93767377e-01,   0.00000000e+00,   5.35070290e-02,\n",
       "         1.43149351e-01,   0.00000000e+00,   5.35070290e-02,\n",
       "         6.98722973e-01,   5.35070290e-02,   7.17392223e-01,\n",
       "         5.35070290e-02,   5.87523698e-02,   0.00000000e+00,\n",
       "         5.35070290e-02,   5.35070290e-02,   1.35016308e-01,\n",
       "         7.17392223e-01,   5.35070290e-02,   7.17392223e-01,\n",
       "         5.35070290e-02,   5.35070290e-02,   5.35070290e-02,\n",
       "         5.35070290e-02,   5.35070290e-02,   5.35070290e-02,\n",
       "         5.35070290e-02,   5.87523698e-02,   5.03487680e-01,\n",
       "         1.43149351e-01,   1.43149351e-01,   1.50462910e-01,\n",
       "         5.35070290e-02,   7.39817437e-01,   1.43149351e-01,\n",
       "         5.35070290e-02,   1.43149351e-01,   5.35070290e-02,\n",
       "         0.00000000e+00,   5.35070290e-02,   5.35070290e-02,\n",
       "         1.43149351e-01,   1.43149351e-01,   6.83549532e-01,\n",
       "         5.35070290e-02,   0.00000000e+00,   1.43149351e-01,\n",
       "         5.16014061e-02,   5.35070290e-02,   5.35070290e-02,\n",
       "         5.35070290e-02,   0.00000000e+00,   5.35070290e-02,\n",
       "         7.17392223e-01,   5.35070290e-02,   4.97608216e-01,\n",
       "         5.35070290e-02,   7.17392223e-01,   5.87523698e-02,\n",
       "         5.35070290e-02,   7.17392223e-01,   1.43149351e-01,\n",
       "         0.00000000e+00,   0.00000000e+00,   8.01177844e-01,\n",
       "         5.35070290e-02,   5.35070290e-02,   5.35070290e-02,\n",
       "         5.35070290e-02,   1.10259470e-01,   7.17392223e-01,\n",
       "         2.11598935e-01,   5.35070290e-02,   5.63810725e-01,\n",
       "         5.35070290e-02,   5.48630781e-02,   5.35070290e-02,\n",
       "         1.10259470e-01,   0.00000000e+00,   5.87523698e-02,\n",
       "         1.43149351e-01,   5.35070290e-02,   8.01177844e-01,\n",
       "         5.35070290e-02,   9.85011918e-01,   5.35070290e-02,\n",
       "         5.77247643e-02,   1.43149351e-01,   5.35070290e-02,\n",
       "         7.17392223e-01,   5.35070290e-02,   4.97608216e-01,\n",
       "         1.43149351e-01,   5.35070290e-02,   5.35070290e-02,\n",
       "         5.35070290e-02,   1.43149351e-01,   1.43149351e-01,\n",
       "         1.43152603e-01,   1.43149351e-01,   5.16014061e-02,\n",
       "         5.87523698e-02,   1.43149351e-01,   5.35070290e-02,\n",
       "         5.35070290e-02,   5.35070290e-02,   2.50904846e-01,\n",
       "         5.93767377e-01,   5.07497293e-01,   5.35070290e-02,\n",
       "         5.35070290e-02,   1.43149351e-01,   1.43149351e-01,\n",
       "         5.35070290e-02,   5.35070290e-02,   5.35070290e-02,\n",
       "         7.17392223e-01,   5.35070290e-02,   5.35070290e-02,\n",
       "         5.35070290e-02,   5.35070290e-02,   1.43152603e-01,\n",
       "         5.35070290e-02,   5.35070290e-02,   5.35070290e-02,\n",
       "         5.35070290e-02,   7.17392223e-01,   1.43149351e-01,\n",
       "         5.77247643e-02,   5.35070290e-02,   5.87523698e-02,\n",
       "         0.00000000e+00,   7.17392223e-01,   0.00000000e+00,\n",
       "         5.35070290e-02,   5.07497293e-01,   5.35070290e-02,\n",
       "         5.16014061e-02,   9.85011918e-01,   5.35070290e-02,\n",
       "         5.35070290e-02,   7.17392223e-01,   1.50462910e-01,\n",
       "         5.35070290e-02,   5.35070290e-02,   1.67083454e-01,\n",
       "         5.35070290e-02,   5.35070290e-02,   5.35070290e-02,\n",
       "         9.85011918e-01,   1.43149351e-01,   1.43149351e-01,\n",
       "         0.00000000e+00,   0.00000000e+00,   5.48565742e-02,\n",
       "         5.35070290e-02,   1.43149351e-01,   5.87523698e-02,\n",
       "         0.00000000e+00,   5.66776473e-02,   5.77247643e-02,\n",
       "         5.35070290e-02,   5.35070290e-02,   5.87523698e-02,\n",
       "         5.35070290e-02,   0.00000000e+00,   5.35070290e-02,\n",
       "         2.50904846e-01,   5.35070290e-02,   1.43149351e-01,\n",
       "         5.35070290e-02,   1.43149351e-01,   4.97608216e-01,\n",
       "         5.35070290e-02,   5.35070290e-02,   5.87523698e-02,\n",
       "         5.88304158e-02,   5.77247643e-02,   5.87523698e-02,\n",
       "         5.48630781e-02,   5.35070290e-02,   7.17392223e-01,\n",
       "         5.35070290e-02,   5.35070290e-02,   0.00000000e+00,\n",
       "         5.35070290e-02,   7.17392223e-01,   5.35070290e-02,\n",
       "         0.00000000e+00,   5.35070290e-02,   5.35070290e-02,\n",
       "         5.35070290e-02,   5.35070290e-02,   0.00000000e+00,\n",
       "         7.17392223e-01,   5.88304158e-02,   1.43149351e-01,\n",
       "         7.17392223e-01,   5.35070290e-02,   1.43149351e-01,\n",
       "         5.35070290e-02,   7.17392223e-01,   0.00000000e+00,\n",
       "         5.35070290e-02,   5.03487680e-01,   7.17392223e-01,\n",
       "         5.87523698e-02,   5.35070290e-02,   1.43149351e-01,\n",
       "         1.43149351e-01,   5.35070290e-02,   5.35070290e-02,\n",
       "         5.35070290e-02,   5.35070290e-02,   5.35070290e-02,\n",
       "         5.35070290e-02,   5.35070290e-02,   7.17392223e-01,\n",
       "         5.35070290e-02,   7.17392223e-01,   8.01177844e-01,\n",
       "         5.16274215e-02,   5.93767377e-01,   5.35070290e-02])"
      ]
     },
     "execution_count": 65,
     "metadata": {},
     "output_type": "execute_result"
    }
   ],
   "source": [
    "x_ismissing"
   ]
  },
  {
   "cell_type": "code",
   "execution_count": 76,
   "metadata": {},
   "outputs": [],
   "source": [
    "FeatureReducer = FunctionTransformer(func = _feature_reducer, validate= False)"
   ]
  },
  {
   "cell_type": "code",
   "execution_count": 111,
   "metadata": {},
   "outputs": [
    {
     "data": {
      "text/plain": [
       "<module 'src.utils' from '/Users/bchnge/Documents/GitHub/home-credit-default-risk/src/utils.py'>"
      ]
     },
     "execution_count": 111,
     "metadata": {},
     "output_type": "execute_result"
    }
   ],
   "source": [
    "reload(utils)"
   ]
  },
  {
   "cell_type": "code",
   "execution_count": 115,
   "metadata": {},
   "outputs": [],
   "source": [
    "reducer = utils.NanReducer()"
   ]
  },
  {
   "cell_type": "code",
   "execution_count": 116,
   "metadata": {},
   "outputs": [],
   "source": [
    "a = reducer.fit_transform(data.X_train)"
   ]
  },
  {
   "cell_type": "code",
   "execution_count": 118,
   "metadata": {},
   "outputs": [],
   "source": [
    "b = reducer.transform(data.X_test)"
   ]
  },
  {
   "cell_type": "code",
   "execution_count": 139,
   "metadata": {},
   "outputs": [
    {
     "data": {
      "text/plain": [
       "<module 'src.classes' from '/Users/bchnge/Documents/GitHub/home-credit-default-risk/src/classes.py'>"
      ]
     },
     "execution_count": 139,
     "metadata": {},
     "output_type": "execute_result"
    }
   ],
   "source": [
    "reload(classes)"
   ]
  },
  {
   "cell_type": "code",
   "execution_count": 120,
   "metadata": {},
   "outputs": [],
   "source": [
    "from sklearn.preprocessing import Imputer"
   ]
  },
  {
   "cell_type": "code",
   "execution_count": 122,
   "metadata": {},
   "outputs": [],
   "source": [
    "M1 = classes.Model(Pipeline([('impute', Imputer()),\n",
    "                             ('clf', LogisticRegression())]),\n",
    "          name = 'logistic regression',\n",
    "          desc = 'logistic regression base')\n",
    "\n",
    "M2 = classes.Model(LGBMClassifier(),\n",
    "          name = \"lgbm\",\n",
    "          desc = \"lgbm\")\n",
    "\n",
    "M3 = classes.Model(Pipeline([('impute', Imputer()),\n",
    "                             ('clf', GaussianNB())]),\n",
    "          name = 'gaussian nb',\n",
    "          desc = 'gnb')\n",
    "\n",
    "models = [M1, M2, M3]"
   ]
  },
  {
   "cell_type": "code",
   "execution_count": 123,
   "metadata": {},
   "outputs": [
    {
     "name": "stdout",
     "output_type": "stream",
     "text": [
      "logistic regression\n",
      "lgbm\n",
      "gaussian nb\n"
     ]
    }
   ],
   "source": [
    "for m in models:\n",
    "    print(m.name)\n",
    "    m.train(data.X_train, data.y_train)"
   ]
  },
  {
   "cell_type": "code",
   "execution_count": 125,
   "metadata": {},
   "outputs": [],
   "source": [
    "M1.validate_model(data.X_train, data.y_train)\n"
   ]
  },
  {
   "cell_type": "code",
   "execution_count": 126,
   "metadata": {},
   "outputs": [],
   "source": [
    "M2.validate_model(data.X_train, data.y_train)\n",
    "M3.validate_model(data.X_train, data.y_train)\n"
   ]
  },
  {
   "cell_type": "code",
   "execution_count": 128,
   "metadata": {},
   "outputs": [],
   "source": [
    "M1_features = M2_features = M3_features = list(data.X_train.columns)"
   ]
  },
  {
   "cell_type": "code",
   "execution_count": 141,
   "metadata": {},
   "outputs": [
    {
     "name": "stdout",
     "output_type": "stream",
     "text": [
      "0.640515328903\n",
      "0.778392647709\n",
      "0.611205219084\n"
     ]
    }
   ],
   "source": [
    "for m in models:\n",
    "    print(m.validation_scores.mean())"
   ]
  },
  {
   "cell_type": "code",
   "execution_count": 158,
   "metadata": {},
   "outputs": [
    {
     "data": {
      "text/plain": [
       "<module 'src.classes' from '/Users/bchnge/Documents/GitHub/home-credit-default-risk/src/classes.py'>"
      ]
     },
     "execution_count": 158,
     "metadata": {},
     "output_type": "execute_result"
    }
   ],
   "source": [
    "reload(classes)"
   ]
  },
  {
   "cell_type": "code",
   "execution_count": 159,
   "metadata": {},
   "outputs": [],
   "source": [
    "mc = classes.ModelCollection([(M1, M1_features),\n",
    "                              (M2, M2_features),\n",
    "                              (M3, M3_features)])"
   ]
  },
  {
   "cell_type": "code",
   "execution_count": 160,
   "metadata": {},
   "outputs": [],
   "source": [
    "mc.validate_model(data.X_train, data.y_train)"
   ]
  },
  {
   "cell_type": "code",
   "execution_count": 164,
   "metadata": {},
   "outputs": [
    {
     "data": {
      "text/plain": [
       "0.55456610917131322"
      ]
     },
     "execution_count": 164,
     "metadata": {},
     "output_type": "execute_result"
    }
   ],
   "source": [
    "mc.validation_scores_stack.get('test_score').mean()"
   ]
  },
  {
   "cell_type": "code",
   "execution_count": 166,
   "metadata": {},
   "outputs": [],
   "source": [
    "from sklearn.feature_selection import SelectFromModel"
   ]
  },
  {
   "cell_type": "code",
   "execution_count": 167,
   "metadata": {},
   "outputs": [],
   "source": [
    "mdl = LogisticRegression()"
   ]
  },
  {
   "cell_type": "code",
   "execution_count": 174,
   "metadata": {},
   "outputs": [],
   "source": [
    "a = SelectFromModel(M1.clf, threshold = 0.25, prefit = True)"
   ]
  },
  {
   "cell_type": "code",
   "execution_count": 175,
   "metadata": {},
   "outputs": [
    {
     "data": {
      "text/plain": [
       "Pipeline(memory=None,\n",
       "     steps=[('impute', Imputer(axis=0, copy=True, missing_values='NaN', strategy='mean', verbose=0)), ('clf', LogisticRegression(C=1.0, class_weight=None, dual=False, fit_intercept=True,\n",
       "          intercept_scaling=1, max_iter=100, multi_class='ovr', n_jobs=1,\n",
       "          penalty='l2', random_state=None, solver='liblinear', tol=0.0001,\n",
       "          verbose=0, warm_start=False))])"
      ]
     },
     "execution_count": 175,
     "metadata": {},
     "output_type": "execute_result"
    }
   ],
   "source": [
    "a.estimator"
   ]
  },
  {
   "cell_type": "code",
   "execution_count": 180,
   "metadata": {
    "scrolled": true
   },
   "outputs": [],
   "source": [
    "piper = Pipeline([('impute', Imputer()),\n",
    "                  ('lr', LogisticRegression(penalty = 'l1'))])"
   ]
  },
  {
   "cell_type": "code",
   "execution_count": 181,
   "metadata": {},
   "outputs": [],
   "source": [
    "a = SelectFromModel(piper, threshold = 0.25)"
   ]
  },
  {
   "cell_type": "code",
   "execution_count": 183,
   "metadata": {},
   "outputs": [],
   "source": [
    "from sklearn.feature_selection import chi2"
   ]
  },
  {
   "cell_type": "code",
   "execution_count": null,
   "metadata": {},
   "outputs": [],
   "source": [
    "preprocesser = Pipeline([('imputer', Imputer()),\n",
    "                         ('')])"
   ]
  },
  {
   "cell_type": "code",
   "execution_count": 189,
   "metadata": {},
   "outputs": [
    {
     "data": {
      "text/html": [
       "<div>\n",
       "<style>\n",
       "    .dataframe thead tr:only-child th {\n",
       "        text-align: right;\n",
       "    }\n",
       "\n",
       "    .dataframe thead th {\n",
       "        text-align: left;\n",
       "    }\n",
       "\n",
       "    .dataframe tbody tr th {\n",
       "        vertical-align: top;\n",
       "    }\n",
       "</style>\n",
       "<table border=\"1\" class=\"dataframe\">\n",
       "  <thead>\n",
       "    <tr style=\"text-align: right;\">\n",
       "      <th></th>\n",
       "      <th>NAME_PRODUCT_TYPE_x-sell_max</th>\n",
       "      <th>LIVINGAPARTMENTS_MEDI</th>\n",
       "      <th>NAME_CASH_LOAN_PURPOSE_Education_mean</th>\n",
       "      <th>NAME_CONTRACT_STATUS_Signed_4</th>\n",
       "      <th>NAME_CLIENT_TYPE_Repeater</th>\n",
       "      <th>AMT_RECEIVABLE_PRINCIPAL_max</th>\n",
       "      <th>NAME_GOODS_CATEGORY_Tourism_mean</th>\n",
       "      <th>NAME_CASH_LOAN_PURPOSE_Furniture_max</th>\n",
       "      <th>NAME_CONTRACT_STATUS_Refused_max</th>\n",
       "      <th>DAYS_LAST_DUE_1ST_VERSION</th>\n",
       "      <th>...</th>\n",
       "      <th>NAME_GOODS_CATEGORY_Medicine</th>\n",
       "      <th>PRODUCT_COMBINATION_POS mobile with interest</th>\n",
       "      <th>CODE_REJECT_REASON_SYSTEM_mean</th>\n",
       "      <th>AMT_BALANCE_mean</th>\n",
       "      <th>CODE_REJECT_REASON_SYSTEM_max</th>\n",
       "      <th>NAME_CONTRACT_STATUS_Active</th>\n",
       "      <th>CNT_DRAWINGS_ATM_CURRENT_max</th>\n",
       "      <th>AMT_PAYMENT_max</th>\n",
       "      <th>LANDAREA_MEDI</th>\n",
       "      <th>NAME_TYPE_SUITE_Group of people_mean</th>\n",
       "    </tr>\n",
       "  </thead>\n",
       "  <tbody>\n",
       "    <tr>\n",
       "      <th>count</th>\n",
       "      <td>291057.000000</td>\n",
       "      <td>97312.000000</td>\n",
       "      <td>291057.000000</td>\n",
       "      <td>289444.000000</td>\n",
       "      <td>291057.000000</td>\n",
       "      <td>8.690500e+04</td>\n",
       "      <td>291057.000000</td>\n",
       "      <td>291057.000000</td>\n",
       "      <td>291057.000000</td>\n",
       "      <td>289760.000000</td>\n",
       "      <td>...</td>\n",
       "      <td>291057.000000</td>\n",
       "      <td>291057.000000</td>\n",
       "      <td>291057.000000</td>\n",
       "      <td>86905.000000</td>\n",
       "      <td>291057.000000</td>\n",
       "      <td>86905.000000</td>\n",
       "      <td>61140.000000</td>\n",
       "      <td>2.916350e+05</td>\n",
       "      <td>124921.000000</td>\n",
       "      <td>291057.000000</td>\n",
       "    </tr>\n",
       "    <tr>\n",
       "      <th>mean</th>\n",
       "      <td>0.519785</td>\n",
       "      <td>0.101954</td>\n",
       "      <td>0.000782</td>\n",
       "      <td>0.000097</td>\n",
       "      <td>0.083746</td>\n",
       "      <td>1.379477e+05</td>\n",
       "      <td>0.001607</td>\n",
       "      <td>0.001907</td>\n",
       "      <td>0.344585</td>\n",
       "      <td>2312.237269</td>\n",
       "      <td>...</td>\n",
       "      <td>0.000959</td>\n",
       "      <td>0.057034</td>\n",
       "      <td>0.000336</td>\n",
       "      <td>71459.926952</td>\n",
       "      <td>0.001766</td>\n",
       "      <td>0.830999</td>\n",
       "      <td>3.995895</td>\n",
       "      <td>1.381792e+05</td>\n",
       "      <td>0.067169</td>\n",
       "      <td>0.001575</td>\n",
       "    </tr>\n",
       "    <tr>\n",
       "      <th>std</th>\n",
       "      <td>0.499609</td>\n",
       "      <td>0.093642</td>\n",
       "      <td>0.017387</td>\n",
       "      <td>0.009835</td>\n",
       "      <td>0.277008</td>\n",
       "      <td>1.660849e+05</td>\n",
       "      <td>0.033622</td>\n",
       "      <td>0.043626</td>\n",
       "      <td>0.475234</td>\n",
       "      <td>35478.680263</td>\n",
       "      <td>...</td>\n",
       "      <td>0.030946</td>\n",
       "      <td>0.231907</td>\n",
       "      <td>0.009591</td>\n",
       "      <td>109056.518226</td>\n",
       "      <td>0.041986</td>\n",
       "      <td>0.374755</td>\n",
       "      <td>3.639161</td>\n",
       "      <td>2.477880e+05</td>\n",
       "      <td>0.082167</td>\n",
       "      <td>0.026990</td>\n",
       "    </tr>\n",
       "    <tr>\n",
       "      <th>min</th>\n",
       "      <td>0.000000</td>\n",
       "      <td>0.000000</td>\n",
       "      <td>0.000000</td>\n",
       "      <td>0.000000</td>\n",
       "      <td>0.000000</td>\n",
       "      <td>0.000000e+00</td>\n",
       "      <td>0.000000</td>\n",
       "      <td>0.000000</td>\n",
       "      <td>0.000000</td>\n",
       "      <td>-2801.000000</td>\n",
       "      <td>...</td>\n",
       "      <td>0.000000</td>\n",
       "      <td>0.000000</td>\n",
       "      <td>0.000000</td>\n",
       "      <td>-2930.232558</td>\n",
       "      <td>0.000000</td>\n",
       "      <td>0.000000</td>\n",
       "      <td>0.000000</td>\n",
       "      <td>2.250000e-01</td>\n",
       "      <td>0.000000</td>\n",
       "      <td>0.000000</td>\n",
       "    </tr>\n",
       "    <tr>\n",
       "      <th>25%</th>\n",
       "      <td>0.000000</td>\n",
       "      <td>0.051300</td>\n",
       "      <td>0.000000</td>\n",
       "      <td>0.000000</td>\n",
       "      <td>0.000000</td>\n",
       "      <td>0.000000e+00</td>\n",
       "      <td>0.000000</td>\n",
       "      <td>0.000000</td>\n",
       "      <td>0.000000</td>\n",
       "      <td>-1999.000000</td>\n",
       "      <td>...</td>\n",
       "      <td>0.000000</td>\n",
       "      <td>0.000000</td>\n",
       "      <td>0.000000</td>\n",
       "      <td>0.000000</td>\n",
       "      <td>0.000000</td>\n",
       "      <td>1.000000</td>\n",
       "      <td>2.000000</td>\n",
       "      <td>1.409717e+04</td>\n",
       "      <td>0.018700</td>\n",
       "      <td>0.000000</td>\n",
       "    </tr>\n",
       "    <tr>\n",
       "      <th>50%</th>\n",
       "      <td>1.000000</td>\n",
       "      <td>0.076100</td>\n",
       "      <td>0.000000</td>\n",
       "      <td>0.000000</td>\n",
       "      <td>0.000000</td>\n",
       "      <td>9.000000e+04</td>\n",
       "      <td>0.000000</td>\n",
       "      <td>0.000000</td>\n",
       "      <td>0.000000</td>\n",
       "      <td>-1089.000000</td>\n",
       "      <td>...</td>\n",
       "      <td>0.000000</td>\n",
       "      <td>0.000000</td>\n",
       "      <td>0.000000</td>\n",
       "      <td>26793.606316</td>\n",
       "      <td>0.000000</td>\n",
       "      <td>1.000000</td>\n",
       "      <td>3.000000</td>\n",
       "      <td>3.600000e+04</td>\n",
       "      <td>0.048700</td>\n",
       "      <td>0.000000</td>\n",
       "    </tr>\n",
       "    <tr>\n",
       "      <th>75%</th>\n",
       "      <td>1.000000</td>\n",
       "      <td>0.123100</td>\n",
       "      <td>0.000000</td>\n",
       "      <td>0.000000</td>\n",
       "      <td>0.000000</td>\n",
       "      <td>1.800000e+05</td>\n",
       "      <td>0.000000</td>\n",
       "      <td>0.000000</td>\n",
       "      <td>1.000000</td>\n",
       "      <td>-309.000000</td>\n",
       "      <td>...</td>\n",
       "      <td>0.000000</td>\n",
       "      <td>0.000000</td>\n",
       "      <td>0.000000</td>\n",
       "      <td>98610.502500</td>\n",
       "      <td>0.000000</td>\n",
       "      <td>1.000000</td>\n",
       "      <td>6.000000</td>\n",
       "      <td>1.329875e+05</td>\n",
       "      <td>0.086800</td>\n",
       "      <td>0.000000</td>\n",
       "    </tr>\n",
       "    <tr>\n",
       "      <th>max</th>\n",
       "      <td>1.000000</td>\n",
       "      <td>1.000000</td>\n",
       "      <td>1.000000</td>\n",
       "      <td>1.000000</td>\n",
       "      <td>1.000000</td>\n",
       "      <td>1.354829e+06</td>\n",
       "      <td>1.000000</td>\n",
       "      <td>1.000000</td>\n",
       "      <td>1.000000</td>\n",
       "      <td>365243.000000</td>\n",
       "      <td>...</td>\n",
       "      <td>1.000000</td>\n",
       "      <td>1.000000</td>\n",
       "      <td>1.000000</td>\n",
       "      <td>928686.323571</td>\n",
       "      <td>1.000000</td>\n",
       "      <td>1.000000</td>\n",
       "      <td>51.000000</td>\n",
       "      <td>3.771488e+06</td>\n",
       "      <td>1.000000</td>\n",
       "      <td>1.000000</td>\n",
       "    </tr>\n",
       "  </tbody>\n",
       "</table>\n",
       "<p>8 rows × 837 columns</p>\n",
       "</div>"
      ],
      "text/plain": [
       "       NAME_PRODUCT_TYPE_x-sell_max  LIVINGAPARTMENTS_MEDI  \\\n",
       "count                 291057.000000           97312.000000   \n",
       "mean                       0.519785               0.101954   \n",
       "std                        0.499609               0.093642   \n",
       "min                        0.000000               0.000000   \n",
       "25%                        0.000000               0.051300   \n",
       "50%                        1.000000               0.076100   \n",
       "75%                        1.000000               0.123100   \n",
       "max                        1.000000               1.000000   \n",
       "\n",
       "       NAME_CASH_LOAN_PURPOSE_Education_mean  NAME_CONTRACT_STATUS_Signed_4  \\\n",
       "count                          291057.000000                  289444.000000   \n",
       "mean                                0.000782                       0.000097   \n",
       "std                                 0.017387                       0.009835   \n",
       "min                                 0.000000                       0.000000   \n",
       "25%                                 0.000000                       0.000000   \n",
       "50%                                 0.000000                       0.000000   \n",
       "75%                                 0.000000                       0.000000   \n",
       "max                                 1.000000                       1.000000   \n",
       "\n",
       "       NAME_CLIENT_TYPE_Repeater  AMT_RECEIVABLE_PRINCIPAL_max  \\\n",
       "count              291057.000000                  8.690500e+04   \n",
       "mean                    0.083746                  1.379477e+05   \n",
       "std                     0.277008                  1.660849e+05   \n",
       "min                     0.000000                  0.000000e+00   \n",
       "25%                     0.000000                  0.000000e+00   \n",
       "50%                     0.000000                  9.000000e+04   \n",
       "75%                     0.000000                  1.800000e+05   \n",
       "max                     1.000000                  1.354829e+06   \n",
       "\n",
       "       NAME_GOODS_CATEGORY_Tourism_mean  NAME_CASH_LOAN_PURPOSE_Furniture_max  \\\n",
       "count                     291057.000000                         291057.000000   \n",
       "mean                           0.001607                              0.001907   \n",
       "std                            0.033622                              0.043626   \n",
       "min                            0.000000                              0.000000   \n",
       "25%                            0.000000                              0.000000   \n",
       "50%                            0.000000                              0.000000   \n",
       "75%                            0.000000                              0.000000   \n",
       "max                            1.000000                              1.000000   \n",
       "\n",
       "       NAME_CONTRACT_STATUS_Refused_max  DAYS_LAST_DUE_1ST_VERSION  \\\n",
       "count                     291057.000000              289760.000000   \n",
       "mean                           0.344585                2312.237269   \n",
       "std                            0.475234               35478.680263   \n",
       "min                            0.000000               -2801.000000   \n",
       "25%                            0.000000               -1999.000000   \n",
       "50%                            0.000000               -1089.000000   \n",
       "75%                            1.000000                -309.000000   \n",
       "max                            1.000000              365243.000000   \n",
       "\n",
       "                       ...                   NAME_GOODS_CATEGORY_Medicine  \\\n",
       "count                  ...                                  291057.000000   \n",
       "mean                   ...                                       0.000959   \n",
       "std                    ...                                       0.030946   \n",
       "min                    ...                                       0.000000   \n",
       "25%                    ...                                       0.000000   \n",
       "50%                    ...                                       0.000000   \n",
       "75%                    ...                                       0.000000   \n",
       "max                    ...                                       1.000000   \n",
       "\n",
       "       PRODUCT_COMBINATION_POS mobile with interest  \\\n",
       "count                                 291057.000000   \n",
       "mean                                       0.057034   \n",
       "std                                        0.231907   \n",
       "min                                        0.000000   \n",
       "25%                                        0.000000   \n",
       "50%                                        0.000000   \n",
       "75%                                        0.000000   \n",
       "max                                        1.000000   \n",
       "\n",
       "       CODE_REJECT_REASON_SYSTEM_mean  AMT_BALANCE_mean  \\\n",
       "count                   291057.000000      86905.000000   \n",
       "mean                         0.000336      71459.926952   \n",
       "std                          0.009591     109056.518226   \n",
       "min                          0.000000      -2930.232558   \n",
       "25%                          0.000000          0.000000   \n",
       "50%                          0.000000      26793.606316   \n",
       "75%                          0.000000      98610.502500   \n",
       "max                          1.000000     928686.323571   \n",
       "\n",
       "       CODE_REJECT_REASON_SYSTEM_max  NAME_CONTRACT_STATUS_Active  \\\n",
       "count                  291057.000000                 86905.000000   \n",
       "mean                        0.001766                     0.830999   \n",
       "std                         0.041986                     0.374755   \n",
       "min                         0.000000                     0.000000   \n",
       "25%                         0.000000                     1.000000   \n",
       "50%                         0.000000                     1.000000   \n",
       "75%                         0.000000                     1.000000   \n",
       "max                         1.000000                     1.000000   \n",
       "\n",
       "       CNT_DRAWINGS_ATM_CURRENT_max  AMT_PAYMENT_max  LANDAREA_MEDI  \\\n",
       "count                  61140.000000     2.916350e+05  124921.000000   \n",
       "mean                       3.995895     1.381792e+05       0.067169   \n",
       "std                        3.639161     2.477880e+05       0.082167   \n",
       "min                        0.000000     2.250000e-01       0.000000   \n",
       "25%                        2.000000     1.409717e+04       0.018700   \n",
       "50%                        3.000000     3.600000e+04       0.048700   \n",
       "75%                        6.000000     1.329875e+05       0.086800   \n",
       "max                       51.000000     3.771488e+06       1.000000   \n",
       "\n",
       "       NAME_TYPE_SUITE_Group of people_mean  \n",
       "count                         291057.000000  \n",
       "mean                               0.001575  \n",
       "std                                0.026990  \n",
       "min                                0.000000  \n",
       "25%                                0.000000  \n",
       "50%                                0.000000  \n",
       "75%                                0.000000  \n",
       "max                                1.000000  \n",
       "\n",
       "[8 rows x 837 columns]"
      ]
     },
     "execution_count": 189,
     "metadata": {},
     "output_type": "execute_result"
    }
   ],
   "source": [
    "data.X_train.describe()"
   ]
  },
  {
   "cell_type": "code",
   "execution_count": 188,
   "metadata": {
    "scrolled": false
   },
   "outputs": [
    {
     "ename": "ValueError",
     "evalue": "Input X must be non-negative.",
     "output_type": "error",
     "traceback": [
      "\u001b[0;31m---------------------------------------------------------------------------\u001b[0m",
      "\u001b[0;31mValueError\u001b[0m                                Traceback (most recent call last)",
      "\u001b[0;32m<ipython-input-188-80c8fc4e6188>\u001b[0m in \u001b[0;36m<module>\u001b[0;34m()\u001b[0m\n\u001b[0;32m----> 1\u001b[0;31m \u001b[0ma\u001b[0m \u001b[0;34m=\u001b[0m \u001b[0mchi2\u001b[0m\u001b[0;34m(\u001b[0m\u001b[0mImputer\u001b[0m\u001b[0;34m(\u001b[0m\u001b[0;34m)\u001b[0m\u001b[0;34m.\u001b[0m\u001b[0mfit_transform\u001b[0m\u001b[0;34m(\u001b[0m\u001b[0mdata\u001b[0m\u001b[0;34m.\u001b[0m\u001b[0mX_train\u001b[0m\u001b[0;34m)\u001b[0m\u001b[0;34m,\u001b[0m \u001b[0mdata\u001b[0m\u001b[0;34m.\u001b[0m\u001b[0my_train\u001b[0m\u001b[0;34m)\u001b[0m\u001b[0;34m\u001b[0m\u001b[0m\n\u001b[0m",
      "\u001b[0;32m~/anaconda3/lib/python3.6/site-packages/sklearn/feature_selection/univariate_selection.py\u001b[0m in \u001b[0;36mchi2\u001b[0;34m(X, y)\u001b[0m\n\u001b[1;32m    213\u001b[0m     \u001b[0mX\u001b[0m \u001b[0;34m=\u001b[0m \u001b[0mcheck_array\u001b[0m\u001b[0;34m(\u001b[0m\u001b[0mX\u001b[0m\u001b[0;34m,\u001b[0m \u001b[0maccept_sparse\u001b[0m\u001b[0;34m=\u001b[0m\u001b[0;34m'csr'\u001b[0m\u001b[0;34m)\u001b[0m\u001b[0;34m\u001b[0m\u001b[0m\n\u001b[1;32m    214\u001b[0m     \u001b[0;32mif\u001b[0m \u001b[0mnp\u001b[0m\u001b[0;34m.\u001b[0m\u001b[0many\u001b[0m\u001b[0;34m(\u001b[0m\u001b[0;34m(\u001b[0m\u001b[0mX\u001b[0m\u001b[0;34m.\u001b[0m\u001b[0mdata\u001b[0m \u001b[0;32mif\u001b[0m \u001b[0missparse\u001b[0m\u001b[0;34m(\u001b[0m\u001b[0mX\u001b[0m\u001b[0;34m)\u001b[0m \u001b[0;32melse\u001b[0m \u001b[0mX\u001b[0m\u001b[0;34m)\u001b[0m \u001b[0;34m<\u001b[0m \u001b[0;36m0\u001b[0m\u001b[0;34m)\u001b[0m\u001b[0;34m:\u001b[0m\u001b[0;34m\u001b[0m\u001b[0m\n\u001b[0;32m--> 215\u001b[0;31m         \u001b[0;32mraise\u001b[0m \u001b[0mValueError\u001b[0m\u001b[0;34m(\u001b[0m\u001b[0;34m\"Input X must be non-negative.\"\u001b[0m\u001b[0;34m)\u001b[0m\u001b[0;34m\u001b[0m\u001b[0m\n\u001b[0m\u001b[1;32m    216\u001b[0m \u001b[0;34m\u001b[0m\u001b[0m\n\u001b[1;32m    217\u001b[0m     \u001b[0mY\u001b[0m \u001b[0;34m=\u001b[0m \u001b[0mLabelBinarizer\u001b[0m\u001b[0;34m(\u001b[0m\u001b[0;34m)\u001b[0m\u001b[0;34m.\u001b[0m\u001b[0mfit_transform\u001b[0m\u001b[0;34m(\u001b[0m\u001b[0my\u001b[0m\u001b[0;34m)\u001b[0m\u001b[0;34m\u001b[0m\u001b[0m\n",
      "\u001b[0;31mValueError\u001b[0m: Input X must be non-negative."
     ]
    }
   ],
   "source": [
    "a = chi2(Imputer().fit_transform(data.X_train), data.y_train)"
   ]
  },
  {
   "cell_type": "code",
   "execution_count": 182,
   "metadata": {},
   "outputs": [
    {
     "ename": "ValueError",
     "evalue": "Input contains NaN, infinity or a value too large for dtype('float64').",
     "output_type": "error",
     "traceback": [
      "\u001b[0;31m---------------------------------------------------------------------------\u001b[0m",
      "\u001b[0;31mValueError\u001b[0m                                Traceback (most recent call last)",
      "\u001b[0;32m<ipython-input-182-a703523c19e4>\u001b[0m in \u001b[0;36m<module>\u001b[0;34m()\u001b[0m\n\u001b[0;32m----> 1\u001b[0;31m \u001b[0ma\u001b[0m\u001b[0;34m.\u001b[0m\u001b[0mtransform\u001b[0m\u001b[0;34m(\u001b[0m\u001b[0mdata\u001b[0m\u001b[0;34m.\u001b[0m\u001b[0mX_train\u001b[0m\u001b[0;34m)\u001b[0m\u001b[0;34m\u001b[0m\u001b[0m\n\u001b[0m",
      "\u001b[0;32m~/anaconda3/lib/python3.6/site-packages/sklearn/feature_selection/base.py\u001b[0m in \u001b[0;36mtransform\u001b[0;34m(self, X)\u001b[0m\n\u001b[1;32m     73\u001b[0m             \u001b[0mThe\u001b[0m \u001b[0minput\u001b[0m \u001b[0msamples\u001b[0m \u001b[0;32mwith\u001b[0m \u001b[0monly\u001b[0m \u001b[0mthe\u001b[0m \u001b[0mselected\u001b[0m \u001b[0mfeatures\u001b[0m\u001b[0;34m.\u001b[0m\u001b[0;34m\u001b[0m\u001b[0m\n\u001b[1;32m     74\u001b[0m         \"\"\"\n\u001b[0;32m---> 75\u001b[0;31m         \u001b[0mX\u001b[0m \u001b[0;34m=\u001b[0m \u001b[0mcheck_array\u001b[0m\u001b[0;34m(\u001b[0m\u001b[0mX\u001b[0m\u001b[0;34m,\u001b[0m \u001b[0maccept_sparse\u001b[0m\u001b[0;34m=\u001b[0m\u001b[0;34m'csr'\u001b[0m\u001b[0;34m)\u001b[0m\u001b[0;34m\u001b[0m\u001b[0m\n\u001b[0m\u001b[1;32m     76\u001b[0m         \u001b[0mmask\u001b[0m \u001b[0;34m=\u001b[0m \u001b[0mself\u001b[0m\u001b[0;34m.\u001b[0m\u001b[0mget_support\u001b[0m\u001b[0;34m(\u001b[0m\u001b[0;34m)\u001b[0m\u001b[0;34m\u001b[0m\u001b[0m\n\u001b[1;32m     77\u001b[0m         \u001b[0;32mif\u001b[0m \u001b[0;32mnot\u001b[0m \u001b[0mmask\u001b[0m\u001b[0;34m.\u001b[0m\u001b[0many\u001b[0m\u001b[0;34m(\u001b[0m\u001b[0;34m)\u001b[0m\u001b[0;34m:\u001b[0m\u001b[0;34m\u001b[0m\u001b[0m\n",
      "\u001b[0;32m~/anaconda3/lib/python3.6/site-packages/sklearn/utils/validation.py\u001b[0m in \u001b[0;36mcheck_array\u001b[0;34m(array, accept_sparse, dtype, order, copy, force_all_finite, ensure_2d, allow_nd, ensure_min_samples, ensure_min_features, warn_on_dtype, estimator)\u001b[0m\n\u001b[1;32m    451\u001b[0m                              % (array.ndim, estimator_name))\n\u001b[1;32m    452\u001b[0m         \u001b[0;32mif\u001b[0m \u001b[0mforce_all_finite\u001b[0m\u001b[0;34m:\u001b[0m\u001b[0;34m\u001b[0m\u001b[0m\n\u001b[0;32m--> 453\u001b[0;31m             \u001b[0m_assert_all_finite\u001b[0m\u001b[0;34m(\u001b[0m\u001b[0marray\u001b[0m\u001b[0;34m)\u001b[0m\u001b[0;34m\u001b[0m\u001b[0m\n\u001b[0m\u001b[1;32m    454\u001b[0m \u001b[0;34m\u001b[0m\u001b[0m\n\u001b[1;32m    455\u001b[0m     \u001b[0mshape_repr\u001b[0m \u001b[0;34m=\u001b[0m \u001b[0m_shape_repr\u001b[0m\u001b[0;34m(\u001b[0m\u001b[0marray\u001b[0m\u001b[0;34m.\u001b[0m\u001b[0mshape\u001b[0m\u001b[0;34m)\u001b[0m\u001b[0;34m\u001b[0m\u001b[0m\n",
      "\u001b[0;32m~/anaconda3/lib/python3.6/site-packages/sklearn/utils/validation.py\u001b[0m in \u001b[0;36m_assert_all_finite\u001b[0;34m(X)\u001b[0m\n\u001b[1;32m     42\u001b[0m             and not np.isfinite(X).all()):\n\u001b[1;32m     43\u001b[0m         raise ValueError(\"Input contains NaN, infinity\"\n\u001b[0;32m---> 44\u001b[0;31m                          \" or a value too large for %r.\" % X.dtype)\n\u001b[0m\u001b[1;32m     45\u001b[0m \u001b[0;34m\u001b[0m\u001b[0m\n\u001b[1;32m     46\u001b[0m \u001b[0;34m\u001b[0m\u001b[0m\n",
      "\u001b[0;31mValueError\u001b[0m: Input contains NaN, infinity or a value too large for dtype('float64')."
     ]
    }
   ],
   "source": [
    "a.transform(data.X_train)"
   ]
  },
  {
   "cell_type": "code",
   "execution_count": 152,
   "metadata": {},
   "outputs": [],
   "source": [
    "from mlxtend.classifier import StackingClassifier"
   ]
  },
  {
   "cell_type": "code",
   "execution_count": 154,
   "metadata": {},
   "outputs": [],
   "source": [
    "a = StackingClassifier([M1, M2], LogisticRegression())"
   ]
  },
  {
   "cell_type": "code",
   "execution_count": 156,
   "metadata": {},
   "outputs": [],
   "source": [
    "from sklearn.model_selection import cross_validate"
   ]
  },
  {
   "cell_type": "code",
   "execution_count": null,
   "metadata": {},
   "outputs": [],
   "source": [
    "b = cross_validate(a, )"
   ]
  },
  {
   "cell_type": "code",
   "execution_count": null,
   "metadata": {},
   "outputs": [],
   "source": [
    "#############################################################\n",
    "models = {}\n",
    "for m in M:\n",
    "    # Define a model\n",
    "    models[m] = {}\n",
    "\n",
    "    # Tune parameters\n",
    "    tuner = Tuner(m, data.X_train, data.y_train)\n",
    "    for k in range(1,5):\n",
    "        tuner.tune(kappa = k, pbounds = {}, n_iters = 10)\n",
    "    \n",
    "\n",
    "# Compare and stack models\n",
    "mc = ModelCollection(models)"
   ]
  }
 ],
 "metadata": {
  "kernelspec": {
   "display_name": "Python 3",
   "language": "python",
   "name": "python3"
  },
  "language_info": {
   "codemirror_mode": {
    "name": "ipython",
    "version": 3
   },
   "file_extension": ".py",
   "mimetype": "text/x-python",
   "name": "python",
   "nbconvert_exporter": "python",
   "pygments_lexer": "ipython3",
   "version": "3.6.3"
  }
 },
 "nbformat": 4,
 "nbformat_minor": 2
}
